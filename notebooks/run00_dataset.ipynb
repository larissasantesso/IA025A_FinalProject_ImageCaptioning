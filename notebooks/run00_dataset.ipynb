{
  "cells": [
    {
      "cell_type": "markdown",
      "metadata": {
        "id": "view-in-github",
        "colab_type": "text"
      },
      "source": [
        "<a href=\"https://colab.research.google.com/github/larissasantesso/IA025A_FinalProject_ImageCaptioning/blob/main/notebooks/run00_dataset.ipynb\" target=\"_parent\"><img src=\"https://colab.research.google.com/assets/colab-badge.svg\" alt=\"Open In Colab\"/></a>"
      ]
    },
    {
      "cell_type": "markdown",
      "source": [
        "# Mounting Google Drive in Colab backend"
      ],
      "metadata": {
        "id": "FTPKDbNZuEe5"
      }
    },
    {
      "cell_type": "code",
      "execution_count": null,
      "metadata": {
        "colab": {
          "base_uri": "https://localhost:8080/"
        },
        "id": "d359Sn2DRQO0",
        "outputId": "b82cebed-7a12-46e7-848d-4d88a381a882"
      },
      "outputs": [
        {
          "output_type": "stream",
          "name": "stdout",
          "text": [
            "Mounted at /content/gdrive\n"
          ]
        }
      ],
      "source": [
        "from google.colab import drive\n",
        "drive.mount('/content/gdrive')"
      ]
    },
    {
      "cell_type": "markdown",
      "source": [
        "# Experiment Configuration"
      ],
      "metadata": {
        "id": "0X9y4ZPfuHbi"
      }
    },
    {
      "cell_type": "code",
      "execution_count": null,
      "metadata": {
        "id": "wFqio3LUpv8g"
      },
      "outputs": [],
      "source": [
        "# Configuration of the experiment of this notebook (used in variables along code and config of W&B)\n",
        "config_exp={\n",
        "        \"learning_rate\": 1e-5,\n",
        "        \"batch_size\": 20,\n",
        "        \"architecture\": \"Vit_768dm_T5_base_768dm\",\n",
        "        \"dataset\": \"MS-COCO Complete\",\n",
        "        \"epochs\": 40,\n",
        "        \"eval_epochs\": 5,\n",
        "        \"max_seq_length\": 32,\n",
        "        \"encoder_pretrained_model\": \"google/vit-base-patch16-224-in21k\",\n",
        "        \"decoder_pretrained_model\": \"t5-base\",\n",
        "        \"path_save_model\":  \"/content/gdrive/MyDrive/Colab Notebooks/Projeto/modelos/model_exp008_run02.pt\",\n",
        "        \"path_save_checkpoints\":  \"/content/gdrive/MyDrive/Colab Notebooks/Projeto/checkpoints/\",\n",
        "        \"checkpoint_folder_name\": \"checkpoint_exp008.tar\"\n",
        "\n",
        "}"
      ]
    },
    {
      "cell_type": "markdown",
      "metadata": {
        "id": "iJNFkikQDkhc"
      },
      "source": [
        "# Installing and importing libraries\n"
      ]
    },
    {
      "cell_type": "code",
      "execution_count": null,
      "metadata": {
        "id": "xoxD8d6vu6XR"
      },
      "outputs": [],
      "source": [
        "!pip install sentencepiece"
      ]
    },
    {
      "cell_type": "code",
      "execution_count": null,
      "metadata": {
        "id": "R361sPem-p3J"
      },
      "outputs": [],
      "source": [
        "!pip install transformers"
      ]
    },
    {
      "cell_type": "code",
      "execution_count": null,
      "metadata": {
        "id": "ky_Wa8OanaWL"
      },
      "outputs": [],
      "source": [
        "!pip install datasets"
      ]
    },
    {
      "cell_type": "code",
      "execution_count": null,
      "metadata": {
        "id": "5pwxcJoIBYky"
      },
      "outputs": [],
      "source": [
        "!pip install sacrebleu"
      ]
    },
    {
      "cell_type": "code",
      "source": [
        "!pip install pycocotools"
      ],
      "metadata": {
        "id": "qY8rG_uxz6Dq"
      },
      "execution_count": null,
      "outputs": []
    },
    {
      "cell_type": "code",
      "source": [
        "!pip install pycocoevalcap"
      ],
      "metadata": {
        "id": "wU6FN74aAi_D"
      },
      "execution_count": null,
      "outputs": []
    },
    {
      "cell_type": "code",
      "execution_count": null,
      "metadata": {
        "id": "0yLbspPf9gj0",
        "colab": {
          "base_uri": "https://localhost:8080/",
          "height": 269,
          "referenced_widgets": [
            "5a746a866eb94e5fb8de7038e2901ddd",
            "4af15960a2f14a0598d4559a297b7194",
            "ee54583e0715461293b0236871f33a99",
            "fc2db15b92d94306b4848b3ce1ae22ed",
            "6df7bf45fe2d441e8815ada333d92f76",
            "ddda77a64b20455986342e0bc0ad2731",
            "cce3908dc9494b7094b8ca5479b8d83b",
            "d247f4f552ed4b71bb7a4d35b73c469b",
            "d26965754c5648e1968bc75913511a67",
            "9d97cb2af5ff4b7d86436cb3825f08a6",
            "ab200000aa9f4c48ad03c3bc2a61b6b2",
            "1169a99162274a47abe60045393be41b",
            "a1312c4f19334c56bf645ee149c325c0",
            "1c2e0d90d03245fda7aa9aff74ede7e6",
            "123ad12d764045dda98b736e9f3a1ed2",
            "39263f32ab734129927746d091af890e",
            "6813a5513903466aad600d9a570e5718",
            "78b3faa438eb42919d9e39415be6d3e1",
            "4c2fa167df3347aaa92086a4d112e72b",
            "a1e6b32a4f6644638787ad4b98dddd6e",
            "a9e009488d46451699257db972681776",
            "b8713b8345ca4f8182843638e2e19e56",
            "f8228d83c7b74350b14107a7fb55c996",
            "850a3db9dabb4f56b176f3dc26e90743",
            "0afd545fccf244c48eb3f6a278868733",
            "e8045a9e3e014dc0a9834c504f520b7a",
            "34d5515305ba451cbbe1ff8dd1d9daa3",
            "dbba76a5b4714b5c87e1af203e5135ab",
            "94a20864b6f14a9a8617eaf8f8dcc0d5",
            "29f511341a7e4ac8bf20d8dfc0c151b9",
            "3469e9bb6f3646f7b8fb9443dd557c8a",
            "927db28d6ef846afb5f077279ccaeda1",
            "f56d87e88deb4840879b26c856d06ee0",
            "e1bc2e5aa80d49eb864fcc2f80e87493",
            "2e951ad57e644ad0b6ebe7e123d56ee4",
            "d3a9829028284db690b8ea393f453f7d",
            "7b21af449c32403ca53dce5a7d147414",
            "c12393dcdbbd4bb49d4f345b859ef636",
            "659337c952394592add77ca14d0a0e27",
            "8dae49180fbb4102bb0d95e13bd6ceff",
            "3886bd06bfd442a4a211bf7be2bedde2",
            "cbd4a8fb1c8444bc9df50e9ea9d34bf8",
            "aa940166c7884d5b8c7fad87fb428bd7",
            "d1490831d7304056b929d365bda107e2"
          ]
        },
        "outputId": "2ab9fa46-cd39-48c0-d3ca-efc752624d4f"
      },
      "outputs": [
        {
          "output_type": "display_data",
          "data": {
            "text/plain": [
              "Downloading builder script:   0%|          | 0.00/2.85k [00:00<?, ?B/s]"
            ],
            "application/vnd.jupyter.widget-view+json": {
              "version_major": 2,
              "version_minor": 0,
              "model_id": "5a746a866eb94e5fb8de7038e2901ddd"
            }
          },
          "metadata": {}
        },
        {
          "output_type": "display_data",
          "data": {
            "text/plain": [
              "Downloading:   0%|          | 0.00/160 [00:00<?, ?B/s]"
            ],
            "application/vnd.jupyter.widget-view+json": {
              "version_major": 2,
              "version_minor": 0,
              "model_id": "1169a99162274a47abe60045393be41b"
            }
          },
          "metadata": {}
        },
        {
          "output_type": "display_data",
          "data": {
            "text/plain": [
              "Downloading:   0%|          | 0.00/773k [00:00<?, ?B/s]"
            ],
            "application/vnd.jupyter.widget-view+json": {
              "version_major": 2,
              "version_minor": 0,
              "model_id": "f8228d83c7b74350b14107a7fb55c996"
            }
          },
          "metadata": {}
        },
        {
          "output_type": "display_data",
          "data": {
            "text/plain": [
              "Downloading:   0%|          | 0.00/1.17k [00:00<?, ?B/s]"
            ],
            "application/vnd.jupyter.widget-view+json": {
              "version_major": 2,
              "version_minor": 0,
              "model_id": "e1bc2e5aa80d49eb864fcc2f80e87493"
            }
          },
          "metadata": {}
        },
        {
          "output_type": "stream",
          "name": "stderr",
          "text": [
            "/usr/local/lib/python3.7/dist-packages/transformers/models/t5/tokenization_t5.py:174: FutureWarning: This tokenizer was incorrectly instantiated with a model max length of 512 which will be corrected in Transformers v5.\n",
            "For now, this behavior is kept to avoid breaking backwards compatibility when padding/encoding with `truncation is True`.\n",
            "- Be aware that you SHOULD NOT rely on t5-base automatically truncating your input to 512 when padding/encoding.\n",
            "- If you want to encode/pad to sequences longer than 512 you can either instantiate this tokenizer with `model_max_length` or pass `max_length` when encoding/padding.\n",
            "- To avoid this warning, please instantiate this tokenizer with `model_max_length` set to your preferred value.\n",
            "  FutureWarning,\n"
          ]
        }
      ],
      "source": [
        "from transformers import ViTFeatureExtractor, ViTModel, ViTConfig\n",
        "from transformers import T5ForConditionalGeneration, T5Tokenizer\n",
        "import datasets\n",
        "\n",
        "from pycocotools.coco import COCO\n",
        "from pycocoevalcap.eval import COCOEvalCap\n",
        "\n",
        "from matplotlib import pyplot as plt\n",
        "from typing import Any, Callable, Optional, Tuple, List\n",
        "import math\n",
        "import random\n",
        "import numpy as np\n",
        "import json\n",
        "from PIL import Image\n",
        "import os\n",
        "import time\n",
        "\n",
        "import torch\n",
        "from torch import nn\n",
        "from torchvision import transforms\n",
        "from torch.utils.data import DataLoader\n",
        "\n",
        "import collections\n",
        "import itertools\n",
        "import functools\n",
        "from tqdm.notebook import tqdm\n",
        "\n",
        "bleu = datasets.load_metric('sacrebleu')\n",
        "\n",
        "feature_extractor = ViTFeatureExtractor.from_pretrained(config_exp[\"encoder_pretrained_model\"])\n",
        "\n",
        "tokenizer = T5Tokenizer.from_pretrained(config_exp[\"decoder_pretrained_model\"])"
      ]
    },
    {
      "cell_type": "markdown",
      "source": [
        "# Setting Seed and Device"
      ],
      "metadata": {
        "id": "7qyE7073uQSO"
      }
    },
    {
      "cell_type": "code",
      "execution_count": null,
      "metadata": {
        "colab": {
          "base_uri": "https://localhost:8080/"
        },
        "id": "Yv8nBlejv1gI",
        "outputId": "b74da58d-0d4b-4585-84e9-941dad7c8cee"
      },
      "outputs": [
        {
          "output_type": "execute_result",
          "data": {
            "text/plain": [
              "<torch._C.Generator at 0x7f3597970a10>"
            ]
          },
          "metadata": {},
          "execution_count": 10
        }
      ],
      "source": [
        "random.seed(123)\n",
        "np.random.seed(123)\n",
        "torch.manual_seed(123)"
      ]
    },
    {
      "cell_type": "code",
      "execution_count": null,
      "metadata": {
        "colab": {
          "base_uri": "https://localhost:8080/"
        },
        "id": "w9f3PfifAwpU",
        "outputId": "4dda13bd-da20-405b-fe90-d6bf571190d9"
      },
      "outputs": [
        {
          "output_type": "stream",
          "name": "stdout",
          "text": [
            "Tue Jul 12 14:37:20 2022       \n",
            "+-----------------------------------------------------------------------------+\n",
            "| NVIDIA-SMI 460.32.03    Driver Version: 460.32.03    CUDA Version: 11.2     |\n",
            "|-------------------------------+----------------------+----------------------+\n",
            "| GPU  Name        Persistence-M| Bus-Id        Disp.A | Volatile Uncorr. ECC |\n",
            "| Fan  Temp  Perf  Pwr:Usage/Cap|         Memory-Usage | GPU-Util  Compute M. |\n",
            "|                               |                      |               MIG M. |\n",
            "|===============================+======================+======================|\n",
            "|   0  Tesla T4            Off  | 00000000:00:04.0 Off |                    0 |\n",
            "| N/A   38C    P8    10W /  70W |      0MiB / 15109MiB |      0%      Default |\n",
            "|                               |                      |                  N/A |\n",
            "+-------------------------------+----------------------+----------------------+\n",
            "                                                                               \n",
            "+-----------------------------------------------------------------------------+\n",
            "| Processes:                                                                  |\n",
            "|  GPU   GI   CI        PID   Type   Process name                  GPU Memory |\n",
            "|        ID   ID                                                   Usage      |\n",
            "|=============================================================================|\n",
            "|  No running processes found                                                 |\n",
            "+-----------------------------------------------------------------------------+\n"
          ]
        }
      ],
      "source": [
        "# Check which GPU we are using\n",
        "!nvidia-smi"
      ]
    },
    {
      "cell_type": "code",
      "execution_count": null,
      "metadata": {
        "colab": {
          "base_uri": "https://localhost:8080/"
        },
        "id": "whTCe2i7AtoV",
        "outputId": "47f6dcb6-2944-4a88-d785-32c66aa272d0"
      },
      "outputs": [
        {
          "output_type": "stream",
          "name": "stdout",
          "text": [
            "Using cuda:0\n"
          ]
        }
      ],
      "source": [
        "if torch.cuda.is_available(): \n",
        "   dev = \"cuda:0\"\n",
        "else: \n",
        "   dev = \"cpu\"\n",
        "device = torch.device(dev)\n",
        "print('Using {}'.format(device))"
      ]
    },
    {
      "cell_type": "markdown",
      "metadata": {
        "id": "-UPNZPEC-qwV"
      },
      "source": [
        "# Dataset MS-COCO 2014"
      ]
    },
    {
      "cell_type": "markdown",
      "source": [
        "Downloaded .zip files (below) from <https://cocodataset.org/#download> and moved them to a personal folder in Google Drive. \n",
        "\n",
        "*   2014 Train images [83K/13GB]\n",
        "*   2014 Val images [41K/6GB]\n",
        "*   2014 Train/Val annotations [241MB]\n",
        "\n"
      ],
      "metadata": {
        "id": "tEuvEWGv9kAE"
      }
    },
    {
      "cell_type": "code",
      "execution_count": null,
      "metadata": {
        "id": "R5VeoI5SCRjy"
      },
      "outputs": [],
      "source": [
        "!unzip -o /content/gdrive/MyDrive/Colab\\ Notebooks/Projeto/dataset/annotations_trainval2014.zip -d /content/"
      ]
    },
    {
      "cell_type": "code",
      "execution_count": null,
      "metadata": {
        "id": "CmRHTnFTZED-"
      },
      "outputs": [],
      "source": [
        "!unzip -o /content/gdrive/MyDrive/Colab\\ Notebooks/Projeto/dataset/train2014.zip -d /content/"
      ]
    },
    {
      "cell_type": "code",
      "execution_count": null,
      "metadata": {
        "id": "YTyFF5blaiCS"
      },
      "outputs": [],
      "source": [
        "!unzip -o /content/gdrive/MyDrive/Colab\\ Notebooks/Projeto/dataset/val2014.zip -d /content/"
      ]
    },
    {
      "cell_type": "markdown",
      "metadata": {
        "id": "gLHsAPs1DIkC"
      },
      "source": [
        "# CocoDataset class\n"
      ]
    },
    {
      "cell_type": "markdown",
      "source": [
        "Function modified from the PyTorch (CocoDetection and CocoCaption): <https://pytorch.org/vision/0.12/_modules/torchvision/datasets/coco.html>."
      ],
      "metadata": {
        "id": "XCC0g_YG-K_C"
      }
    },
    {
      "cell_type": "code",
      "execution_count": null,
      "metadata": {
        "id": "dGIG6A38HeDV"
      },
      "outputs": [],
      "source": [
        "# Class dataset modified from pytorch <https://pytorch.org/vision/0.12/_modules/torchvision/datasets/coco.html>\n",
        "\n",
        "class CocoDataset():\n",
        "    \"\"\"MS Coco Captions <https://cocodataset.org/#captions-2015> Dataset.\n",
        "\n",
        "    It requires the COCO API to be installed <https://github.com/pdollar/coco/tree/master/PythonAPI>\n",
        "\n",
        "    Args:\n",
        "        root (string): Root directory where images are downloaded to.\n",
        "        \n",
        "        annFile (string): Path to json annotation file.\n",
        "\n",
        "        transform (callable, optional): A function/transform that  takes in an image (PIL image)\n",
        "        and returns a transformed version. E.g, ``transforms.ToTensor``\n",
        "        \n",
        "        idsList: List of image ids to filter. \n",
        "        - Example: [35328,\n",
        "                  559113,\n",
        "                  495626,\n",
        "                  169996]\n",
        "\n",
        "    Output:\n",
        "\n",
        "        image: image samples - Training dataset: 82783 samples/Validation dataset: 40504 samples\n",
        "\n",
        "        targets: 5 captions for each image\n",
        "        - Example:\n",
        "          ['A plane emitting smoke stream flying over a mountain.',\n",
        "          'A plane darts across a bright blue sky behind a mountain covered in snow',\n",
        "          'A plane leaves a contrail above the snowy mountain top.',\n",
        "          'A mountain that has a plane flying overheard in the distance.',\n",
        "          'A mountain view with a plume of smoke in the background']\n",
        "\n",
        "        id: id of the image (purpose: create .json file for evaluation)\n",
        "    \"\"\"\n",
        "\n",
        "    def __init__(self, root: str, annFile: str, transform: Optional[Callable] = None, idsList:  Optional[Callable] = None):\n",
        "\n",
        "        self.root = root\n",
        "        self.coco = COCO(annotation_file=annFile)\n",
        "        self.transform = transform\n",
        "        self.ids = list(sorted(self.coco.getImgIds()))\n",
        "        self.ids_captions = list(sorted(self.coco.getAnnIds()))\n",
        "        \n",
        "        if idsList is not None:\n",
        "           self.ids = list(sorted(np.unique(idsList)))\n",
        "           self.ids = list(map(int, self.ids))\n",
        "\n",
        "    def _load_image(self, id: int):\n",
        "        path = self.coco.loadImgs(id)[0][\"file_name\"]\n",
        "        data = Image.open(os.path.join(self.root,path)).convert(\"RGB\")\n",
        "        return data\n",
        "\n",
        "    def _load_target(self, id: int) -> List[str]:\n",
        "        return [str(ann[\"caption\"]) for ann in self.coco.loadAnns(self.coco.getAnnIds(id))]\n",
        "\n",
        "    def __getitem__(self, index: int) -> Tuple[Any, Any]:\n",
        "        id = self.ids[index]\n",
        "        image = self._load_image(id)\n",
        "        target = self._load_target(id)\n",
        "        \n",
        "        if self.transform is not None:\n",
        "            img = image.copy()\n",
        "            img = img.resize((224,224), resample = Image.BILINEAR) \n",
        "            # image resizing of PIL is better than pytorch and the output is the same as when applied ViTFeatureExtractor\n",
        "            # see link for problems in resizing images: https://blog.zuru.tech/machine-learning/2021/08/09/the-dangers-behind-image-resizing\n",
        "            img = self.transform(img)\n",
        "\n",
        "        return img, target.copy(), id\n",
        "\n",
        "\n",
        "    def __len__(self) -> int:\n",
        "        return len(self.ids)"
      ]
    },
    {
      "cell_type": "code",
      "execution_count": null,
      "metadata": {
        "id": "L-uWDpCcJBE-"
      },
      "outputs": [],
      "source": [
        "# Function to replace double quotes (\"\") to single ('') in the captions\n",
        "# reference from: <https://stackoverflow.com/questions/42183479/i-want-to-replace-single-quotes-with-double-quotes-in-a-list>\n",
        "\n",
        "class str2(str): \n",
        "    def __repr__(self):\n",
        "        # Allow str.__repr__() to do the hard work, then\n",
        "        # remove the outer two characters, double quotes,\n",
        "        # and replace them with single quotes.\n",
        "        return \"\".join((\"'\", super().__repr__()[1:-1], \"'\"))"
      ]
    },
    {
      "cell_type": "code",
      "execution_count": null,
      "metadata": {
        "id": "KMSVPHbz8FVu"
      },
      "outputs": [],
      "source": [
        "def collate_custom(batch):\n",
        "    \"\"\"\n",
        "    Args:\n",
        "        batch: batch of Dataloader\n",
        "    Returns:\n",
        "        imgs (Tensor): input images of the batch.\n",
        "        batch_tokens[\"input_ids\"] (Tensor): tokens of a randomized caption (one sentence tokenized for each image) -- purpose: for training\n",
        "        texts (List[str]): list containing all five captions of each image -- purpose: calculus of NLP metrics\n",
        "    \"\"\"\n",
        "    imgs = [r[0] for r in batch]\n",
        "    texts = [random.sample(list(map(str2, r[1])), k=5) for r in batch]  \n",
        "    # Need to use random.sample() bacause some samples contain more than 5 captions per image \n",
        "    text = [random.choice(r[1]) for r in batch]\n",
        "    ids = [r[2] for r in batch]\n",
        "\n",
        "    batch_tokens = tokenizer.batch_encode_plus(text, return_tensors=\"pt\", padding=\"longest\")\n",
        "\n",
        "    return (\n",
        "        torch.stack(imgs), \n",
        "        batch_tokens[\"input_ids\"], \n",
        "        texts,\n",
        "        ids\n",
        "    )"
      ]
    },
    {
      "cell_type": "code",
      "execution_count": null,
      "metadata": {
        "colab": {
          "base_uri": "https://localhost:8080/"
        },
        "id": "EzCQOLx9Cw9b",
        "outputId": "3cebe431-d0fd-4121-a61a-27f7c1f7e497"
      },
      "outputs": [
        {
          "output_type": "stream",
          "name": "stderr",
          "text": [
            "/usr/local/lib/python3.7/dist-packages/transformers/models/t5/tokenization_t5.py:174: FutureWarning: This tokenizer was incorrectly instantiated with a model max length of 512 which will be corrected in Transformers v5.\n",
            "For now, this behavior is kept to avoid breaking backwards compatibility when padding/encoding with `truncation is True`.\n",
            "- Be aware that you SHOULD NOT rely on t5-base automatically truncating your input to 512 when padding/encoding.\n",
            "- If you want to encode/pad to sequences longer than 512 you can either instantiate this tokenizer with `model_max_length` or pass `max_length` when encoding/padding.\n",
            "- To avoid this warning, please instantiate this tokenizer with `model_max_length` set to your preferred value.\n",
            "  FutureWarning,\n"
          ]
        },
        {
          "output_type": "stream",
          "name": "stdout",
          "text": [
            "loading annotations into memory...\n",
            "Done (t=0.62s)\n",
            "creating index...\n",
            "index created!\n",
            "loading annotations into memory...\n",
            "Done (t=0.63s)\n",
            "creating index...\n",
            "index created!\n"
          ]
        }
      ],
      "source": [
        "feature_extractor = ViTFeatureExtractor.from_pretrained(config_exp[\"encoder_pretrained_model\"])\n",
        "\n",
        "transform_train = transforms.Compose([\n",
        "    transforms.ToTensor(),         \n",
        "    transforms.RandomHorizontalFlip(p=0.5),\n",
        "    transforms.Normalize(mean=feature_extractor.image_mean, std=feature_extractor.image_std)])\n",
        "\n",
        "transform_val = transforms.Compose([\n",
        "    transforms.ToTensor(),         \n",
        "    transforms.Normalize(mean=feature_extractor.image_mean, std=feature_extractor.image_std)])\n",
        "\n",
        "tokenizer = T5Tokenizer.from_pretrained(config_exp[\"decoder_pretrained_model\"])\n",
        "\n",
        "train_dataset = CocoDataset(root=\"/content/train2014/\",annFile=\"/content/annotations/captions_train2014.json\",transform=transform_train)\n",
        "eval_dataset = CocoDataset(root=\"/content/val2014/\",annFile=\"/content/annotations/captions_val2014.json\",transform=transform_val)\n",
        "\n",
        "val_length = int(len(eval_dataset)*0.6)\n",
        "indices = torch.randperm(len(eval_dataset))\n",
        "\n",
        "val_dataset = torch.utils.data.Subset(eval_dataset, indices[:val_length])\n",
        "test_dataset = torch.utils.data.Subset(eval_dataset, indices[val_length:len(eval_dataset)])"
      ]
    },
    {
      "cell_type": "code",
      "execution_count": null,
      "metadata": {
        "colab": {
          "base_uri": "https://localhost:8080/",
          "height": 512
        },
        "id": "MZJdU8MzC1A1",
        "outputId": "e646f9e4-8aa3-4a34-9514-f0df79cf1dcf"
      },
      "outputs": [
        {
          "output_type": "stream",
          "name": "stderr",
          "text": [
            "Clipping input data to the valid range for imshow with RGB data ([0..1] for floats or [0..255] for integers).\n"
          ]
        },
        {
          "output_type": "stream",
          "name": "stdout",
          "text": [
            "Number of samples in training dataset: 82783\n",
            "Number of samples in eval dataset (original validation set): 40504\n",
            "Number of samples in validation dataset: 24302\n",
            "Number of samples in test dataset: 16202\n",
            "--------------------\n",
            "Outputs of CocoDataset: \n",
            "Image with a shape of: torch.Size([3, 224, 224])\n",
            "Image captions: \n",
            "Closeup of bins of food that include broccoli and bread.\n",
            "A meal is presented in brightly colored plastic trays.\n",
            "there are containers filled with different kinds of foods\n",
            "Colorful dishes holding meat, vegetables, fruit, and bread.\n",
            "A bunch of trays that have different food.\n"
          ]
        },
        {
          "output_type": "display_data",
          "data": {
            "text/plain": [
              "<Figure size 432x288 with 1 Axes>"
            ],
            "image/png": "[encoded data removed]"
          },
          "metadata": {
            "needs_background": "light"
          }
        }
      ],
      "source": [
        "print(f\"Number of samples in training dataset: {len(train_dataset)}\")\n",
        "print(f\"Number of samples in eval dataset (original validation set): {len(eval_dataset)}\")\n",
        "print(f\"Number of samples in validation dataset: {len(val_dataset)}\")\n",
        "print(f\"Number of samples in test dataset: {len(test_dataset)}\")\n",
        "print(\"-\"*20)\n",
        "x, y, id = train_dataset[0]\n",
        "print(f\"Outputs of CocoDataset: \")\n",
        "print(f\"Image with a shape of: {x.shape}\")\n",
        "plt.imshow(x.permute(1,2,0))\n",
        "\n",
        "print(\"Image captions: \")\n",
        "for i in y:\n",
        "    print(i)"
      ]
    },
    {
      "cell_type": "markdown",
      "source": [
        "## Example DataLoader"
      ],
      "metadata": {
        "id": "qdqQwuEb9Idw"
      }
    },
    {
      "cell_type": "code",
      "execution_count": null,
      "metadata": {
        "colab": {
          "base_uri": "https://localhost:8080/",
          "height": 304
        },
        "id": "DOL_9JH6C9HX",
        "outputId": "1f9b6b14-6239-4bf5-82c0-7a482a041a0e"
      },
      "outputs": [
        {
          "output_type": "stream",
          "name": "stderr",
          "text": [
            "Clipping input data to the valid range for imshow with RGB data ([0..1] for floats or [0..255] for integers).\n"
          ]
        },
        {
          "output_type": "execute_result",
          "data": {
            "text/plain": [
              "<matplotlib.image.AxesImage at 0x7f78792b5690>"
            ]
          },
          "metadata": {},
          "execution_count": 30
        },
        {
          "output_type": "display_data",
          "data": {
            "text/plain": [
              "<Figure size 432x288 with 1 Axes>"
            ],
            "image/png": "[encoded data removed]"
          },
          "metadata": {
            "needs_background": "light"
          }
        }
      ],
      "source": [
        "train_loader_test = DataLoader(train_dataset, batch_size=3, shuffle=False, collate_fn = collate_custom, drop_last=True)\n",
        "\n",
        "x, y, z, w  = next(iter(train_loader_test))\n",
        "plt.imshow(x[0].squeeze().permute(1,2,0))"
      ]
    },
    {
      "cell_type": "code",
      "execution_count": null,
      "metadata": {
        "colab": {
          "base_uri": "https://localhost:8080/"
        },
        "id": "GnAaROnm6U3r",
        "outputId": "32454570-ffb3-4991-b80c-252092657d00"
      },
      "outputs": [
        {
          "output_type": "execute_result",
          "data": {
            "text/plain": [
              "[['Closeup of bins of food that include broccoli and bread.',\n",
              "  'Colorful dishes holding meat, vegetables, fruit, and bread.',\n",
              "  'there are containers filled with different kinds of foods',\n",
              "  'A meal is presented in brightly colored plastic trays.',\n",
              "  'A bunch of trays that have different food.'],\n",
              " ['A giraffe eating food from the top of the tree.',\n",
              "  'A giraffe standing up nearby a tree ',\n",
              "  'A giraffe mother with its baby in the forest.',\n",
              "  'Two giraffes standing in a tree filled area.',\n",
              "  'A giraffe standing next to a forest filled with trees.'],\n",
              " ['White vase with different colored flowers sitting inside of it. ',\n",
              "  'a white vase with many flowers on a stage',\n",
              "  'A flower vase is sitting on a porch stand.',\n",
              "  'A vase with red and white flowers outside on a sunny day.',\n",
              "  'A white vase filled with different colored flowers.'],\n",
              " ['Zebra reaching its head down to ground where grass is. ',\n",
              "  'A zebra grazing on lush green grass in a field.',\n",
              "  'The zebra is eating grass in the sun.',\n",
              "  'a Zebra grazing on grass in a green open field.',\n",
              "  'A lone zebra grazing in some green grass.'],\n",
              " ['A woman with an umbrella near the sea',\n",
              "  'A woman posing for the camera, holding a pink, open umbrella and wearing a bright, floral, ruched bathing suit, by a life guard stand with lake, green trees, and a blue sky with a few clouds behind.',\n",
              "  'A girl in a bathing suit with a pink umbrella.',\n",
              "  'Woman in swim suit holding parasol on sunny day.',\n",
              "  'A woman in a floral swimsuit holds a pink umbrella.'],\n",
              " ['A pair of horses performing tricks in a field. ',\n",
              "  'two horses and their riders on some grass',\n",
              "  'Two costumed horse riders make their horses stand on their hind legs.',\n",
              "  'A couple of men riding horses on top of a green field.',\n",
              "  'Two men are on horses that are reared back.'],\n",
              " ['They are brave for riding in the jungle on those elephants.',\n",
              "  'Some people who are riding on top of elephants.',\n",
              "  'Several elephants in the jungle carrying people on their backs',\n",
              "  'SOME PEOPLE IN THE WOODS RIDING TWO ELEPHANTS',\n",
              "  'there are people riding elephants in the middle of a forest'],\n",
              " ['A clock sits on top of a black pole near a tree on a sidewalk near a crosswalk.',\n",
              "  'a black and silver clock tower at an intersection near a tree',\n",
              "  'A very pretty clock on the side of a road.',\n",
              "  'A pole with a clock that reads 6:10 by a white car. ',\n",
              "  'A clock is seen in front of a tall tree.'],\n",
              " ['A train coming down the tracks in the city.',\n",
              "  'A passenger train glides around a curve on the outer track.',\n",
              "  'The very long train is travelling down the tracks.',\n",
              "  'A train engine carrying many carts down a track.',\n",
              "  'A train coming to a stop on the tracks out side.'],\n",
              " ['Two giraffes hang out near trees and nuzzle up to each other.',\n",
              "  'A couple of giraffe snuggling each other in a forest.',\n",
              "  'The two giraffes appear to be hugging each other.',\n",
              "  'Two Zebras seem to be embracing in the wild. ',\n",
              "  'A couple of giraffe standing next to some trees.'],\n",
              " ['A young man riding a skateboard into the air.',\n",
              "  'a group of teenagers jumping a ramp on their skateboards',\n",
              "  'Group of boys performing skateboard trick on ramp with graffiti on it',\n",
              "  'some male skateboarders are doing some tricks and grafitti',\n",
              "  'A time lapse image of a guy on a skate board.'],\n",
              " ['White clock sitting next to a statue of an owl. ',\n",
              "  'An antique looking clock beside an owl with a candle in it.',\n",
              "  'A lighted owl candle sits next to a clock.',\n",
              "  'a close up of a clock near an owl candle holder ',\n",
              "  'An owl candle and a clock sitting in front of a wall.'],\n",
              " ['A big airplane flying in the big blue sky',\n",
              "  'An AirFrance jet airplane flying in the sky ',\n",
              "  'An Air France air plane in mid flight.',\n",
              "  'A big plane with AirFrance on the side of it.',\n",
              "  'Large, two decked, four engined airliner in flight.'],\n",
              " ['A man sitting on a motorcycle in the woods.',\n",
              "  'A person looks down at something while sitting on a bike. ',\n",
              "  'A man on a an old fashioned bicycle in the woods ',\n",
              "  'A man riding a motor bike across a forest.',\n",
              "  'A young person is on a very ornate old bicycle.']]"
            ]
          },
          "metadata": {},
          "execution_count": 32
        }
      ],
      "source": [
        "z"
      ]
    },
    {
      "cell_type": "code",
      "execution_count": null,
      "metadata": {
        "colab": {
          "base_uri": "https://localhost:8080/"
        },
        "id": "3vg85CbFC9HY",
        "outputId": "fc31e050-1051-4e1a-8035-22287db69d09"
      },
      "outputs": [
        {
          "output_type": "execute_result",
          "data": {
            "text/plain": [
              "torch.Size([14, 3, 224, 224])"
            ]
          },
          "metadata": {},
          "execution_count": 22
        }
      ],
      "source": [
        "x.shape"
      ]
    },
    {
      "cell_type": "code",
      "execution_count": null,
      "metadata": {
        "colab": {
          "base_uri": "https://localhost:8080/"
        },
        "id": "VS_4EYbgC9HY",
        "outputId": "526a33f0-91b9-4482-9c30-314dd0354a80"
      },
      "outputs": [
        {
          "output_type": "execute_result",
          "data": {
            "text/plain": [
              "tensor([[  389,  4836,    28,     3,     9, 11734,    30,   420,    13,    34,\n",
              "            16,     3,     9,  1228,     5,     1,     0,     0,     0,     0,\n",
              "             0],\n",
              "        [   71,  3711,  9980,    30,     3,     9,  3829,    28,     3,     9,\n",
              "            21,   157,     5,     1,     0,     0,     0,     0,     0,     0,\n",
              "             0],\n",
              "        [  290,    19,     3,     9,  2815, 14372,    28,  7614,  3950,     1,\n",
              "             0,     0,     0,     0,     0,     0,     0,     0,     0,     0,\n",
              "             0],\n",
              "        [  128,  5956,    11,     3,     9,   568,    16,     3,     9,  1692,\n",
              "          8677,  3214,     3,     9,  1782,    11,   387,     1,     0,     0,\n",
              "             0],\n",
              "        [   71,  2335,  3753,     3,     9,  6871,    28,     3,     9,    21,\n",
              "           157,    11, 10821,     5,     1,     0,     0,     0,     0,     0,\n",
              "             0],\n",
              "        [   71,   887,   113,    19,  3753,   139,     3,     9,  4340,     5,\n",
              "             1,     0,     0,     0,     0,     0,     0,     0,     0,     0,\n",
              "             0],\n",
              "        [   71,  1466,    13,  4340,    11,  1975,    33,    30,    46,  2655,\n",
              "           953,     5,     1,     0,     0,     0,     0,     0,     0,     0,\n",
              "             0],\n",
              "        [   71,   939,    13,  7194,    13,     3,     9,  5103,   825,  1228,\n",
              "             1,     0,     0,     0,     0,     0,     0,     0,     0,     0,\n",
              "             0],\n",
              "        [ 4109,    28, 13634,  3702,    11,   206,  6714,     9,    30,     3,\n",
              "             9,   953,     1,     0,     0,     0,     0,     0,     0,     0,\n",
              "             0],\n",
              "        [    3,     9,  1158,    13,     3,  9427,     9,  7398,     7,     3,\n",
              "          1544,   128,   542,    91,    13,     3,     9,     3,   929,    63,\n",
              "             1],\n",
              "        [ 2449,    33,  7070,  3650,    15,     7,    30,     3,     9,   306,\n",
              "           496,  1057,     5,     1,     0,     0,     0,     0,     0,     0,\n",
              "             0],\n",
              "        [   71,   388,    90,  3247,    91,    13,     3,     9,  1689,  1084,\n",
              "             3,     9,   710,  1190,  1320,    16,     3,     9,  5827,     5,\n",
              "             1],\n",
              "        [ 5245,     3,   776,  1939,    33,  3214,   190,     8,  5956,    13,\n",
              "             3,     9,  1057,     5,     1,     0,     0,     0,     0,     0,\n",
              "             0],\n",
              "        [   71,  2335, 21982,  3609,    95,     3,     9,  3116,    13,  6079,\n",
              "         28958,    12,   841,    31,     7,  6177,     5,     1,     0,     0,\n",
              "             0]])"
            ]
          },
          "metadata": {},
          "execution_count": 23
        }
      ],
      "source": [
        "y"
      ]
    },
    {
      "cell_type": "code",
      "execution_count": null,
      "metadata": {
        "colab": {
          "base_uri": "https://localhost:8080/"
        },
        "id": "ttabcw0TC9HY",
        "outputId": "9f16bf68-99ac-4c61-cd22-b70404e910ab"
      },
      "outputs": [
        {
          "output_type": "execute_result",
          "data": {
            "text/plain": [
              "tensor([[[[-0.6557, -0.6201, -0.6160,  ..., -0.6386, -0.6641, -0.6683],\n",
              "          [-0.6170, -0.6473, -0.6436,  ..., -0.6585, -0.6819, -0.6990],\n",
              "          [-0.6395, -0.6569, -0.6771,  ..., -0.6564, -0.6633, -0.6661],\n",
              "          ...,\n",
              "          [-0.9911, -0.9919, -0.9914,  ..., -0.3324, -0.3658, -0.3944],\n",
              "          [-0.9864, -0.9830, -0.9858,  ..., -0.3653, -0.3642, -0.3689],\n",
              "          [-0.9887, -0.9801, -0.9788,  ..., -0.3741, -0.3947, -0.3601]],\n",
              "\n",
              "         [[-0.7969, -0.7601, -0.7605,  ..., -0.5921, -0.5802, -0.6021],\n",
              "          [-0.7582, -0.7918, -0.7859,  ..., -0.5978, -0.6046, -0.6367],\n",
              "          [-0.7886, -0.8059, -0.8283,  ..., -0.5752, -0.5832, -0.5894],\n",
              "          ...,\n",
              "          [-0.9911, -0.9919, -0.9914,  ..., -0.4590, -0.4887, -0.5287],\n",
              "          [-0.9864, -0.9830, -0.9858,  ..., -0.4882, -0.4784, -0.4944],\n",
              "          [-0.9887, -0.9801, -0.9788,  ..., -0.4860, -0.5079, -0.4932]],\n",
              "\n",
              "         [[-0.8988, -0.8983, -0.9096,  ..., -0.6193, -0.6258, -0.5971],\n",
              "          [-0.8408, -0.9185, -0.9215,  ..., -0.5665, -0.6043, -0.6184],\n",
              "          [-0.9185, -0.9253, -0.9373,  ..., -0.5908, -0.5970, -0.5958],\n",
              "          ...,\n",
              "          [-0.9754, -0.9919, -0.9914,  ..., -0.5696, -0.6072, -0.6034],\n",
              "          [-0.9749, -0.9830, -0.9858,  ..., -0.5619, -0.5412, -0.6125],\n",
              "          [-0.9887, -0.9801, -0.9788,  ..., -0.5541, -0.5897, -0.5724]]],\n",
              "\n",
              "\n",
              "        [[[-0.2449, -0.2357, -0.2448,  ..., -0.2924, -0.2673, -0.2472],\n",
              "          [-0.2297, -0.2286, -0.2370,  ..., -0.4981, -0.4731, -0.4558],\n",
              "          [-0.2246, -0.2347, -0.2356,  ..., -0.7198, -0.7097, -0.7141],\n",
              "          ...,\n",
              "          [-0.1613, -0.1550, -0.1529,  ...,  0.2431,  0.1290,  0.1086],\n",
              "          [-0.1484, -0.1389, -0.1534,  ...,  0.1430,  0.1066,  0.1607],\n",
              "          [-0.1336, -0.1468, -0.1552,  ...,  0.1370,  0.1262,  0.3435]],\n",
              "\n",
              "         [[-0.4881, -0.4788, -0.4880,  ..., -0.3312, -0.3280, -0.3333],\n",
              "          [-0.4728, -0.4717, -0.4801,  ..., -0.5437, -0.5274, -0.5336],\n",
              "          [-0.4678, -0.4779, -0.4788,  ..., -0.7726, -0.7625, -0.7673],\n",
              "          ...,\n",
              "          [-0.1770, -0.1707, -0.1686,  ...,  0.1674,  0.0824,  0.0686],\n",
              "          [-0.1842, -0.1647, -0.1726,  ...,  0.0989,  0.0759,  0.0965],\n",
              "          [-0.1806, -0.1782, -0.1765,  ...,  0.0892,  0.0715,  0.2759]],\n",
              "\n",
              "         [[-0.9967, -0.9877, -0.9950,  ..., -0.4509, -0.4399, -0.4346],\n",
              "          [-0.9826, -0.9815, -0.9899,  ..., -0.7044, -0.6843, -0.6832],\n",
              "          [-0.9816, -0.9909, -0.9913,  ..., -0.9154, -0.9053, -0.9101],\n",
              "          ...,\n",
              "          [-0.0751, -0.0626, -0.0588,  ...,  0.2202,  0.1662,  0.1234],\n",
              "          [-0.0772, -0.0515, -0.0610,  ...,  0.1647,  0.1683,  0.1216],\n",
              "          [-0.0708, -0.0622, -0.0639,  ...,  0.1433,  0.1637,  0.2326]]],\n",
              "\n",
              "\n",
              "        [[[ 0.8616,  0.8528,  0.8854,  ..., -0.9031,  0.9513,  0.8763],\n",
              "          [ 0.8892,  0.8979,  0.8560,  ..., -0.8881,  0.9146,  0.8607],\n",
              "          [ 0.8737,  0.8600,  0.8791,  ..., -0.9638,  0.9624,  0.8642],\n",
              "          ...,\n",
              "          [-0.6730, -0.6480, -0.6432,  ..., -0.3750, -0.3646, -0.4148],\n",
              "          [-0.6952, -0.7823, -0.6772,  ..., -0.4782, -0.5032, -0.5231],\n",
              "          [-0.7125, -0.6795, -0.6221,  ..., -0.4869, -0.4753, -0.4895]],\n",
              "\n",
              "         [[ 0.8844,  0.8882,  0.8707,  ..., -0.9286,  0.9553,  0.8568],\n",
              "          [ 0.8876,  0.8990,  0.8982,  ..., -0.9039,  0.9252,  0.8323],\n",
              "          [ 0.8737,  0.8921,  0.8777,  ..., -0.9634,  0.9627,  0.8476],\n",
              "          ...,\n",
              "          [-0.6866, -0.6558, -0.6453,  ..., -0.4889, -0.4741, -0.5108],\n",
              "          [-0.7055, -0.7880, -0.6909,  ..., -0.5676, -0.6017, -0.6167],\n",
              "          [-0.7198, -0.6945, -0.6378,  ..., -0.5610, -0.5783, -0.5831]],\n",
              "\n",
              "         [[ 0.8256,  0.8551,  0.8579,  ..., -0.9301,  0.8807,  0.7887],\n",
              "          [ 0.8516,  0.8619,  0.8806,  ..., -0.8195,  0.8317,  0.7920],\n",
              "          [ 0.8335,  0.8568,  0.8295,  ..., -0.9289,  0.8864,  0.7531],\n",
              "          ...,\n",
              "          [-0.6453, -0.6166, -0.6234,  ..., -0.5958, -0.5959, -0.6248],\n",
              "          [-0.6673, -0.7554, -0.6683,  ..., -0.6499, -0.7008, -0.7095],\n",
              "          [-0.6822, -0.6553, -0.6142,  ..., -0.6273, -0.6769, -0.6772]]],\n",
              "\n",
              "\n",
              "        ...,\n",
              "\n",
              "\n",
              "        [[[-0.9297, -0.9425, -0.6807,  ...,  0.1085, -0.3738, -0.2366],\n",
              "          [-0.9575, -0.9163, -0.9008,  ...,  0.2236, -0.5624, -0.1661],\n",
              "          [-0.9607, -0.9258, -0.9461,  ..., -0.2608, -0.2419, -0.1595],\n",
              "          ...,\n",
              "          [-0.9255, -0.9479, -0.9479,  ...,  0.7892,  0.4058, -0.3393],\n",
              "          [-0.9417, -0.9573, -0.9605,  ...,  0.7377,  0.2605, -0.2523],\n",
              "          [-0.9339, -0.9535, -0.9608,  ...,  0.7877,  0.0501,  0.2827]],\n",
              "\n",
              "         [[-0.9567, -0.9136, -0.9740,  ...,  0.7196,  0.0516,  0.3462],\n",
              "          [-0.9370, -0.9686, -0.9802,  ...,  0.5325, -0.1569,  0.1545],\n",
              "          [-0.9539, -0.9246, -0.9600,  ...,  0.0066,  0.2778,  0.4352],\n",
              "          ...,\n",
              "          [-0.9681, -0.9636, -0.9636,  ...,  0.3001,  0.0757, -0.0298],\n",
              "          [-0.9675, -0.9573, -0.9762,  ...,  0.2263, -0.1434,  0.0030],\n",
              "          [-0.9765, -0.9692, -0.9765,  ...,  0.1916, -0.4519, -0.1092]],\n",
              "\n",
              "         [[-0.9261, -0.9238, -0.8206,  ..., -0.2049, -0.4331, -0.4648],\n",
              "          [-0.9350, -0.9447, -0.9415,  ..., -0.0096, -0.7050, -0.0627],\n",
              "          [-0.9488, -0.9157, -0.9261,  ..., -0.3893, -0.3157, -0.4420],\n",
              "          ...,\n",
              "          [-0.9367, -0.9401, -0.9401,  ...,  0.3091, -0.0063, -0.4389],\n",
              "          [-0.9406, -0.9417, -0.9527,  ...,  0.2857, -0.1416, -0.3367],\n",
              "          [-0.9451, -0.9457, -0.9529,  ...,  0.2223, -0.4080, -0.0824]]],\n",
              "\n",
              "\n",
              "        [[[-0.5763, -0.5673, -0.6277,  ..., -0.6159, -0.5758, -0.5498],\n",
              "          [-0.6170, -0.6337, -0.6414,  ..., -0.6110, -0.6205, -0.6093],\n",
              "          [-0.5568, -0.5425, -0.5375,  ..., -0.5813, -0.4717, -0.5159],\n",
              "          ...,\n",
              "          [-0.3875, -0.3797, -0.4028,  ..., -0.5333, -0.5933, -0.6066],\n",
              "          [-0.3671, -0.3821, -0.4492,  ..., -0.3400, -0.3520, -0.4321],\n",
              "          [-0.4999, -0.4511, -0.4050,  ..., -0.4052, -0.4113, -0.3255]],\n",
              "\n",
              "         [[-0.5824, -0.5706, -0.5988,  ..., -0.5772, -0.5515, -0.5216],\n",
              "          [-0.5003, -0.5334, -0.5412,  ..., -0.6015, -0.5970, -0.5694],\n",
              "          [-0.4844, -0.4686, -0.4588,  ..., -0.5779, -0.4616, -0.4972],\n",
              "          ...,\n",
              "          [-0.2641, -0.3113, -0.2789,  ..., -0.5059, -0.5670, -0.5719],\n",
              "          [-0.2437, -0.2974, -0.3137,  ..., -0.2546, -0.2247, -0.3182],\n",
              "          [-0.3735, -0.3742, -0.2688,  ..., -0.2563, -0.2695, -0.1967]],\n",
              "\n",
              "         [[-0.5552, -0.5258, -0.5700,  ..., -0.6069, -0.5880, -0.5659],\n",
              "          [-0.6237, -0.6337, -0.6569,  ..., -0.5951, -0.5994, -0.5815],\n",
              "          [-0.6115, -0.6002, -0.5903,  ..., -0.5837, -0.4683, -0.5050],\n",
              "          ...,\n",
              "          [-0.6460, -0.6014, -0.5868,  ..., -0.6474, -0.6324, -0.6621],\n",
              "          [-0.6268, -0.6033, -0.6348,  ..., -0.5562, -0.5542, -0.6060],\n",
              "          [-0.6584, -0.6250, -0.5625,  ..., -0.6005, -0.6333, -0.5036]]],\n",
              "\n",
              "\n",
              "        [[[ 0.0813,  0.0981,  0.1030,  ...,  0.8161,  0.7985,  0.7859],\n",
              "          [ 0.0735,  0.0748,  0.0596,  ...,  0.8021,  0.8062,  0.8045],\n",
              "          [ 0.0937,  0.0997,  0.1275,  ...,  0.8084,  0.8085,  0.8039],\n",
              "          ...,\n",
              "          [ 0.7258,  0.7111, -0.0566,  ...,  0.1542,  0.2742,  0.4181],\n",
              "          [ 0.7108,  0.7132,  0.5498,  ...,  0.1324,  0.2706,  0.4110],\n",
              "          [ 0.6215,  0.5338,  0.4704,  ...,  0.1570,  0.2776,  0.3878]],\n",
              "\n",
              "         [[ 0.0499,  0.0449,  0.0747,  ...,  0.7052,  0.7310,  0.7176],\n",
              "          [ 0.0410,  0.0591,  0.0123,  ...,  0.7394,  0.7420,  0.7403],\n",
              "          [ 0.0623,  0.0608,  0.0726,  ...,  0.7427,  0.7179,  0.7331],\n",
              "          ...,\n",
              "          [ 0.6147,  0.6322, -0.4050,  ..., -0.8022, -0.7320, -0.6326],\n",
              "          [ 0.6199,  0.6322,  0.5040,  ..., -0.8202, -0.7560, -0.6563],\n",
              "          [ 0.5413,  0.4559,  0.4110,  ..., -0.7999, -0.7366, -0.6601]],\n",
              "\n",
              "         [[-0.0442, -0.0369, -0.0131,  ...,  0.4322,  0.4510,  0.4301],\n",
              "          [-0.0531, -0.0429, -0.0686,  ...,  0.4492,  0.4604,  0.4508],\n",
              "          [-0.0318, -0.0333, -0.0058,  ...,  0.4540,  0.4474,  0.4469],\n",
              "          ...,\n",
              "          [ 0.4869,  0.5252, -0.4716,  ..., -0.7631, -0.7011, -0.5782],\n",
              "          [ 0.5076,  0.5175,  0.3125,  ..., -0.8022, -0.7335, -0.6229],\n",
              "          [ 0.4053,  0.3530,  0.2555,  ..., -0.7613, -0.6905, -0.6171]]]])"
            ]
          },
          "metadata": {},
          "execution_count": 24
        }
      ],
      "source": [
        "x"
      ]
    },
    {
      "cell_type": "markdown",
      "metadata": {
        "id": "_82gwj7v4XPf"
      },
      "source": [
        "# Function to unNormalize image (for displaying results only)"
      ]
    },
    {
      "cell_type": "code",
      "execution_count": null,
      "metadata": {
        "id": "_67DQ71IFlTy"
      },
      "outputs": [],
      "source": [
        "# Function to unnormalize image only for displaying image without the normalization applied by transforms. \n",
        "# reference: <https://stackoverflow.com/questions/61368632/display-image-in-a-pil-format-from-torch-tensor>\n",
        "\n",
        "class UnNormalize(object):\n",
        "    def __init__(self, mean, std):\n",
        "        self.mean = mean\n",
        "        self.std = std\n",
        "\n",
        "    def __call__(self, tensor):\n",
        "        \"\"\"\n",
        "        Args:\n",
        "            tensor (Tensor): Tensor image of size (C, H, W) to be normalized.\n",
        "        Returns:\n",
        "            Tensor: Normalized image.\n",
        "        \"\"\"\n",
        "        for t, m, s in zip(tensor, self.mean, self.std):\n",
        "            t.mul_(s).add_(m)\n",
        "            # The normalize code -> t.sub_(m).div_(s)\n",
        "        return tensor\n",
        "\n",
        "unorm = UnNormalize(mean=feature_extractor.image_mean, std=feature_extractor.image_std)"
      ]
    }
  ],
  "metadata": {
    "colab": {
      "collapsed_sections": [],
      "machine_shape": "hm",
      "provenance": [],
      "include_colab_link": true
    },
    "gpuClass": "standard",
    "kernelspec": {
      "display_name": "Python 3",
      "name": "python3"
    },
    "language_info": {
      "name": "python"
    },
    "widgets": {
      "application/vnd.jupyter.widget-state+json": {
        "5a746a866eb94e5fb8de7038e2901ddd": {
          "model_module": "@jupyter-widgets/controls",
          "model_name": "HBoxModel",
          "model_module_version": "1.5.0",
          "state": {
            "_dom_classes": [],
            "_model_module": "@jupyter-widgets/controls",
            "_model_module_version": "1.5.0",
            "_model_name": "HBoxModel",
            "_view_count": null,
            "_view_module": "@jupyter-widgets/controls",
            "_view_module_version": "1.5.0",
            "_view_name": "HBoxView",
            "box_style": "",
            "children": [
              "IPY_MODEL_4af15960a2f14a0598d4559a297b7194",
              "IPY_MODEL_ee54583e0715461293b0236871f33a99",
              "IPY_MODEL_fc2db15b92d94306b4848b3ce1ae22ed"
            ],
            "layout": "IPY_MODEL_6df7bf45fe2d441e8815ada333d92f76"
          }
        },
        "4af15960a2f14a0598d4559a297b7194": {
          "model_module": "@jupyter-widgets/controls",
          "model_name": "HTMLModel",
          "model_module_version": "1.5.0",
          "state": {
            "_dom_classes": [],
            "_model_module": "@jupyter-widgets/controls",
            "_model_module_version": "1.5.0",
            "_model_name": "HTMLModel",
            "_view_count": null,
            "_view_module": "@jupyter-widgets/controls",
            "_view_module_version": "1.5.0",
            "_view_name": "HTMLView",
            "description": "",
            "description_tooltip": null,
            "layout": "IPY_MODEL_ddda77a64b20455986342e0bc0ad2731",
            "placeholder": "​",
            "style": "IPY_MODEL_cce3908dc9494b7094b8ca5479b8d83b",
            "value": "Downloading builder script: "
          }
        },
        "ee54583e0715461293b0236871f33a99": {
          "model_module": "@jupyter-widgets/controls",
          "model_name": "FloatProgressModel",
          "model_module_version": "1.5.0",
          "state": {
            "_dom_classes": [],
            "_model_module": "@jupyter-widgets/controls",
            "_model_module_version": "1.5.0",
            "_model_name": "FloatProgressModel",
            "_view_count": null,
            "_view_module": "@jupyter-widgets/controls",
            "_view_module_version": "1.5.0",
            "_view_name": "ProgressView",
            "bar_style": "success",
            "description": "",
            "description_tooltip": null,
            "layout": "IPY_MODEL_d247f4f552ed4b71bb7a4d35b73c469b",
            "max": 2848,
            "min": 0,
            "orientation": "horizontal",
            "style": "IPY_MODEL_d26965754c5648e1968bc75913511a67",
            "value": 2848
          }
        },
        "fc2db15b92d94306b4848b3ce1ae22ed": {
          "model_module": "@jupyter-widgets/controls",
          "model_name": "HTMLModel",
          "model_module_version": "1.5.0",
          "state": {
            "_dom_classes": [],
            "_model_module": "@jupyter-widgets/controls",
            "_model_module_version": "1.5.0",
            "_model_name": "HTMLModel",
            "_view_count": null,
            "_view_module": "@jupyter-widgets/controls",
            "_view_module_version": "1.5.0",
            "_view_name": "HTMLView",
            "description": "",
            "description_tooltip": null,
            "layout": "IPY_MODEL_9d97cb2af5ff4b7d86436cb3825f08a6",
            "placeholder": "​",
            "style": "IPY_MODEL_ab200000aa9f4c48ad03c3bc2a61b6b2",
            "value": " 7.65k/? [00:00&lt;00:00, 76.9kB/s]"
          }
        },
        "6df7bf45fe2d441e8815ada333d92f76": {
          "model_module": "@jupyter-widgets/base",
          "model_name": "LayoutModel",
          "model_module_version": "1.2.0",
          "state": {
            "_model_module": "@jupyter-widgets/base",
            "_model_module_version": "1.2.0",
            "_model_name": "LayoutModel",
            "_view_count": null,
            "_view_module": "@jupyter-widgets/base",
            "_view_module_version": "1.2.0",
            "_view_name": "LayoutView",
            "align_content": null,
            "align_items": null,
            "align_self": null,
            "border": null,
            "bottom": null,
            "display": null,
            "flex": null,
            "flex_flow": null,
            "grid_area": null,
            "grid_auto_columns": null,
            "grid_auto_flow": null,
            "grid_auto_rows": null,
            "grid_column": null,
            "grid_gap": null,
            "grid_row": null,
            "grid_template_areas": null,
            "grid_template_columns": null,
            "grid_template_rows": null,
            "height": null,
            "justify_content": null,
            "justify_items": null,
            "left": null,
            "margin": null,
            "max_height": null,
            "max_width": null,
            "min_height": null,
            "min_width": null,
            "object_fit": null,
            "object_position": null,
            "order": null,
            "overflow": null,
            "overflow_x": null,
            "overflow_y": null,
            "padding": null,
            "right": null,
            "top": null,
            "visibility": null,
            "width": null
          }
        },
        "ddda77a64b20455986342e0bc0ad2731": {
          "model_module": "@jupyter-widgets/base",
          "model_name": "LayoutModel",
          "model_module_version": "1.2.0",
          "state": {
            "_model_module": "@jupyter-widgets/base",
            "_model_module_version": "1.2.0",
            "_model_name": "LayoutModel",
            "_view_count": null,
            "_view_module": "@jupyter-widgets/base",
            "_view_module_version": "1.2.0",
            "_view_name": "LayoutView",
            "align_content": null,
            "align_items": null,
            "align_self": null,
            "border": null,
            "bottom": null,
            "display": null,
            "flex": null,
            "flex_flow": null,
            "grid_area": null,
            "grid_auto_columns": null,
            "grid_auto_flow": null,
            "grid_auto_rows": null,
            "grid_column": null,
            "grid_gap": null,
            "grid_row": null,
            "grid_template_areas": null,
            "grid_template_columns": null,
            "grid_template_rows": null,
            "height": null,
            "justify_content": null,
            "justify_items": null,
            "left": null,
            "margin": null,
            "max_height": null,
            "max_width": null,
            "min_height": null,
            "min_width": null,
            "object_fit": null,
            "object_position": null,
            "order": null,
            "overflow": null,
            "overflow_x": null,
            "overflow_y": null,
            "padding": null,
            "right": null,
            "top": null,
            "visibility": null,
            "width": null
          }
        },
        "cce3908dc9494b7094b8ca5479b8d83b": {
          "model_module": "@jupyter-widgets/controls",
          "model_name": "DescriptionStyleModel",
          "model_module_version": "1.5.0",
          "state": {
            "_model_module": "@jupyter-widgets/controls",
            "_model_module_version": "1.5.0",
            "_model_name": "DescriptionStyleModel",
            "_view_count": null,
            "_view_module": "@jupyter-widgets/base",
            "_view_module_version": "1.2.0",
            "_view_name": "StyleView",
            "description_width": ""
          }
        },
        "d247f4f552ed4b71bb7a4d35b73c469b": {
          "model_module": "@jupyter-widgets/base",
          "model_name": "LayoutModel",
          "model_module_version": "1.2.0",
          "state": {
            "_model_module": "@jupyter-widgets/base",
            "_model_module_version": "1.2.0",
            "_model_name": "LayoutModel",
            "_view_count": null,
            "_view_module": "@jupyter-widgets/base",
            "_view_module_version": "1.2.0",
            "_view_name": "LayoutView",
            "align_content": null,
            "align_items": null,
            "align_self": null,
            "border": null,
            "bottom": null,
            "display": null,
            "flex": null,
            "flex_flow": null,
            "grid_area": null,
            "grid_auto_columns": null,
            "grid_auto_flow": null,
            "grid_auto_rows": null,
            "grid_column": null,
            "grid_gap": null,
            "grid_row": null,
            "grid_template_areas": null,
            "grid_template_columns": null,
            "grid_template_rows": null,
            "height": null,
            "justify_content": null,
            "justify_items": null,
            "left": null,
            "margin": null,
            "max_height": null,
            "max_width": null,
            "min_height": null,
            "min_width": null,
            "object_fit": null,
            "object_position": null,
            "order": null,
            "overflow": null,
            "overflow_x": null,
            "overflow_y": null,
            "padding": null,
            "right": null,
            "top": null,
            "visibility": null,
            "width": null
          }
        },
        "d26965754c5648e1968bc75913511a67": {
          "model_module": "@jupyter-widgets/controls",
          "model_name": "ProgressStyleModel",
          "model_module_version": "1.5.0",
          "state": {
            "_model_module": "@jupyter-widgets/controls",
            "_model_module_version": "1.5.0",
            "_model_name": "ProgressStyleModel",
            "_view_count": null,
            "_view_module": "@jupyter-widgets/base",
            "_view_module_version": "1.2.0",
            "_view_name": "StyleView",
            "bar_color": null,
            "description_width": ""
          }
        },
        "9d97cb2af5ff4b7d86436cb3825f08a6": {
          "model_module": "@jupyter-widgets/base",
          "model_name": "LayoutModel",
          "model_module_version": "1.2.0",
          "state": {
            "_model_module": "@jupyter-widgets/base",
            "_model_module_version": "1.2.0",
            "_model_name": "LayoutModel",
            "_view_count": null,
            "_view_module": "@jupyter-widgets/base",
            "_view_module_version": "1.2.0",
            "_view_name": "LayoutView",
            "align_content": null,
            "align_items": null,
            "align_self": null,
            "border": null,
            "bottom": null,
            "display": null,
            "flex": null,
            "flex_flow": null,
            "grid_area": null,
            "grid_auto_columns": null,
            "grid_auto_flow": null,
            "grid_auto_rows": null,
            "grid_column": null,
            "grid_gap": null,
            "grid_row": null,
            "grid_template_areas": null,
            "grid_template_columns": null,
            "grid_template_rows": null,
            "height": null,
            "justify_content": null,
            "justify_items": null,
            "left": null,
            "margin": null,
            "max_height": null,
            "max_width": null,
            "min_height": null,
            "min_width": null,
            "object_fit": null,
            "object_position": null,
            "order": null,
            "overflow": null,
            "overflow_x": null,
            "overflow_y": null,
            "padding": null,
            "right": null,
            "top": null,
            "visibility": null,
            "width": null
          }
        },
        "ab200000aa9f4c48ad03c3bc2a61b6b2": {
          "model_module": "@jupyter-widgets/controls",
          "model_name": "DescriptionStyleModel",
          "model_module_version": "1.5.0",
          "state": {
            "_model_module": "@jupyter-widgets/controls",
            "_model_module_version": "1.5.0",
            "_model_name": "DescriptionStyleModel",
            "_view_count": null,
            "_view_module": "@jupyter-widgets/base",
            "_view_module_version": "1.2.0",
            "_view_name": "StyleView",
            "description_width": ""
          }
        },
        "1169a99162274a47abe60045393be41b": {
          "model_module": "@jupyter-widgets/controls",
          "model_name": "HBoxModel",
          "model_module_version": "1.5.0",
          "state": {
            "_dom_classes": [],
            "_model_module": "@jupyter-widgets/controls",
            "_model_module_version": "1.5.0",
            "_model_name": "HBoxModel",
            "_view_count": null,
            "_view_module": "@jupyter-widgets/controls",
            "_view_module_version": "1.5.0",
            "_view_name": "HBoxView",
            "box_style": "",
            "children": [
              "IPY_MODEL_a1312c4f19334c56bf645ee149c325c0",
              "IPY_MODEL_1c2e0d90d03245fda7aa9aff74ede7e6",
              "IPY_MODEL_123ad12d764045dda98b736e9f3a1ed2"
            ],
            "layout": "IPY_MODEL_39263f32ab734129927746d091af890e"
          }
        },
        "a1312c4f19334c56bf645ee149c325c0": {
          "model_module": "@jupyter-widgets/controls",
          "model_name": "HTMLModel",
          "model_module_version": "1.5.0",
          "state": {
            "_dom_classes": [],
            "_model_module": "@jupyter-widgets/controls",
            "_model_module_version": "1.5.0",
            "_model_name": "HTMLModel",
            "_view_count": null,
            "_view_module": "@jupyter-widgets/controls",
            "_view_module_version": "1.5.0",
            "_view_name": "HTMLView",
            "description": "",
            "description_tooltip": null,
            "layout": "IPY_MODEL_6813a5513903466aad600d9a570e5718",
            "placeholder": "​",
            "style": "IPY_MODEL_78b3faa438eb42919d9e39415be6d3e1",
            "value": "Downloading: 100%"
          }
        },
        "1c2e0d90d03245fda7aa9aff74ede7e6": {
          "model_module": "@jupyter-widgets/controls",
          "model_name": "FloatProgressModel",
          "model_module_version": "1.5.0",
          "state": {
            "_dom_classes": [],
            "_model_module": "@jupyter-widgets/controls",
            "_model_module_version": "1.5.0",
            "_model_name": "FloatProgressModel",
            "_view_count": null,
            "_view_module": "@jupyter-widgets/controls",
            "_view_module_version": "1.5.0",
            "_view_name": "ProgressView",
            "bar_style": "success",
            "description": "",
            "description_tooltip": null,
            "layout": "IPY_MODEL_4c2fa167df3347aaa92086a4d112e72b",
            "max": 160,
            "min": 0,
            "orientation": "horizontal",
            "style": "IPY_MODEL_a1e6b32a4f6644638787ad4b98dddd6e",
            "value": 160
          }
        },
        "123ad12d764045dda98b736e9f3a1ed2": {
          "model_module": "@jupyter-widgets/controls",
          "model_name": "HTMLModel",
          "model_module_version": "1.5.0",
          "state": {
            "_dom_classes": [],
            "_model_module": "@jupyter-widgets/controls",
            "_model_module_version": "1.5.0",
            "_model_name": "HTMLModel",
            "_view_count": null,
            "_view_module": "@jupyter-widgets/controls",
            "_view_module_version": "1.5.0",
            "_view_name": "HTMLView",
            "description": "",
            "description_tooltip": null,
            "layout": "IPY_MODEL_a9e009488d46451699257db972681776",
            "placeholder": "​",
            "style": "IPY_MODEL_b8713b8345ca4f8182843638e2e19e56",
            "value": " 160/160 [00:00&lt;00:00, 1.22kB/s]"
          }
        },
        "39263f32ab734129927746d091af890e": {
          "model_module": "@jupyter-widgets/base",
          "model_name": "LayoutModel",
          "model_module_version": "1.2.0",
          "state": {
            "_model_module": "@jupyter-widgets/base",
            "_model_module_version": "1.2.0",
            "_model_name": "LayoutModel",
            "_view_count": null,
            "_view_module": "@jupyter-widgets/base",
            "_view_module_version": "1.2.0",
            "_view_name": "LayoutView",
            "align_content": null,
            "align_items": null,
            "align_self": null,
            "border": null,
            "bottom": null,
            "display": null,
            "flex": null,
            "flex_flow": null,
            "grid_area": null,
            "grid_auto_columns": null,
            "grid_auto_flow": null,
            "grid_auto_rows": null,
            "grid_column": null,
            "grid_gap": null,
            "grid_row": null,
            "grid_template_areas": null,
            "grid_template_columns": null,
            "grid_template_rows": null,
            "height": null,
            "justify_content": null,
            "justify_items": null,
            "left": null,
            "margin": null,
            "max_height": null,
            "max_width": null,
            "min_height": null,
            "min_width": null,
            "object_fit": null,
            "object_position": null,
            "order": null,
            "overflow": null,
            "overflow_x": null,
            "overflow_y": null,
            "padding": null,
            "right": null,
            "top": null,
            "visibility": null,
            "width": null
          }
        },
        "6813a5513903466aad600d9a570e5718": {
          "model_module": "@jupyter-widgets/base",
          "model_name": "LayoutModel",
          "model_module_version": "1.2.0",
          "state": {
            "_model_module": "@jupyter-widgets/base",
            "_model_module_version": "1.2.0",
            "_model_name": "LayoutModel",
            "_view_count": null,
            "_view_module": "@jupyter-widgets/base",
            "_view_module_version": "1.2.0",
            "_view_name": "LayoutView",
            "align_content": null,
            "align_items": null,
            "align_self": null,
            "border": null,
            "bottom": null,
            "display": null,
            "flex": null,
            "flex_flow": null,
            "grid_area": null,
            "grid_auto_columns": null,
            "grid_auto_flow": null,
            "grid_auto_rows": null,
            "grid_column": null,
            "grid_gap": null,
            "grid_row": null,
            "grid_template_areas": null,
            "grid_template_columns": null,
            "grid_template_rows": null,
            "height": null,
            "justify_content": null,
            "justify_items": null,
            "left": null,
            "margin": null,
            "max_height": null,
            "max_width": null,
            "min_height": null,
            "min_width": null,
            "object_fit": null,
            "object_position": null,
            "order": null,
            "overflow": null,
            "overflow_x": null,
            "overflow_y": null,
            "padding": null,
            "right": null,
            "top": null,
            "visibility": null,
            "width": null
          }
        },
        "78b3faa438eb42919d9e39415be6d3e1": {
          "model_module": "@jupyter-widgets/controls",
          "model_name": "DescriptionStyleModel",
          "model_module_version": "1.5.0",
          "state": {
            "_model_module": "@jupyter-widgets/controls",
            "_model_module_version": "1.5.0",
            "_model_name": "DescriptionStyleModel",
            "_view_count": null,
            "_view_module": "@jupyter-widgets/base",
            "_view_module_version": "1.2.0",
            "_view_name": "StyleView",
            "description_width": ""
          }
        },
        "4c2fa167df3347aaa92086a4d112e72b": {
          "model_module": "@jupyter-widgets/base",
          "model_name": "LayoutModel",
          "model_module_version": "1.2.0",
          "state": {
            "_model_module": "@jupyter-widgets/base",
            "_model_module_version": "1.2.0",
            "_model_name": "LayoutModel",
            "_view_count": null,
            "_view_module": "@jupyter-widgets/base",
            "_view_module_version": "1.2.0",
            "_view_name": "LayoutView",
            "align_content": null,
            "align_items": null,
            "align_self": null,
            "border": null,
            "bottom": null,
            "display": null,
            "flex": null,
            "flex_flow": null,
            "grid_area": null,
            "grid_auto_columns": null,
            "grid_auto_flow": null,
            "grid_auto_rows": null,
            "grid_column": null,
            "grid_gap": null,
            "grid_row": null,
            "grid_template_areas": null,
            "grid_template_columns": null,
            "grid_template_rows": null,
            "height": null,
            "justify_content": null,
            "justify_items": null,
            "left": null,
            "margin": null,
            "max_height": null,
            "max_width": null,
            "min_height": null,
            "min_width": null,
            "object_fit": null,
            "object_position": null,
            "order": null,
            "overflow": null,
            "overflow_x": null,
            "overflow_y": null,
            "padding": null,
            "right": null,
            "top": null,
            "visibility": null,
            "width": null
          }
        },
        "a1e6b32a4f6644638787ad4b98dddd6e": {
          "model_module": "@jupyter-widgets/controls",
          "model_name": "ProgressStyleModel",
          "model_module_version": "1.5.0",
          "state": {
            "_model_module": "@jupyter-widgets/controls",
            "_model_module_version": "1.5.0",
            "_model_name": "ProgressStyleModel",
            "_view_count": null,
            "_view_module": "@jupyter-widgets/base",
            "_view_module_version": "1.2.0",
            "_view_name": "StyleView",
            "bar_color": null,
            "description_width": ""
          }
        },
        "a9e009488d46451699257db972681776": {
          "model_module": "@jupyter-widgets/base",
          "model_name": "LayoutModel",
          "model_module_version": "1.2.0",
          "state": {
            "_model_module": "@jupyter-widgets/base",
            "_model_module_version": "1.2.0",
            "_model_name": "LayoutModel",
            "_view_count": null,
            "_view_module": "@jupyter-widgets/base",
            "_view_module_version": "1.2.0",
            "_view_name": "LayoutView",
            "align_content": null,
            "align_items": null,
            "align_self": null,
            "border": null,
            "bottom": null,
            "display": null,
            "flex": null,
            "flex_flow": null,
            "grid_area": null,
            "grid_auto_columns": null,
            "grid_auto_flow": null,
            "grid_auto_rows": null,
            "grid_column": null,
            "grid_gap": null,
            "grid_row": null,
            "grid_template_areas": null,
            "grid_template_columns": null,
            "grid_template_rows": null,
            "height": null,
            "justify_content": null,
            "justify_items": null,
            "left": null,
            "margin": null,
            "max_height": null,
            "max_width": null,
            "min_height": null,
            "min_width": null,
            "object_fit": null,
            "object_position": null,
            "order": null,
            "overflow": null,
            "overflow_x": null,
            "overflow_y": null,
            "padding": null,
            "right": null,
            "top": null,
            "visibility": null,
            "width": null
          }
        },
        "b8713b8345ca4f8182843638e2e19e56": {
          "model_module": "@jupyter-widgets/controls",
          "model_name": "DescriptionStyleModel",
          "model_module_version": "1.5.0",
          "state": {
            "_model_module": "@jupyter-widgets/controls",
            "_model_module_version": "1.5.0",
            "_model_name": "DescriptionStyleModel",
            "_view_count": null,
            "_view_module": "@jupyter-widgets/base",
            "_view_module_version": "1.2.0",
            "_view_name": "StyleView",
            "description_width": ""
          }
        },
        "f8228d83c7b74350b14107a7fb55c996": {
          "model_module": "@jupyter-widgets/controls",
          "model_name": "HBoxModel",
          "model_module_version": "1.5.0",
          "state": {
            "_dom_classes": [],
            "_model_module": "@jupyter-widgets/controls",
            "_model_module_version": "1.5.0",
            "_model_name": "HBoxModel",
            "_view_count": null,
            "_view_module": "@jupyter-widgets/controls",
            "_view_module_version": "1.5.0",
            "_view_name": "HBoxView",
            "box_style": "",
            "children": [
              "IPY_MODEL_850a3db9dabb4f56b176f3dc26e90743",
              "IPY_MODEL_0afd545fccf244c48eb3f6a278868733",
              "IPY_MODEL_e8045a9e3e014dc0a9834c504f520b7a"
            ],
            "layout": "IPY_MODEL_34d5515305ba451cbbe1ff8dd1d9daa3"
          }
        },
        "850a3db9dabb4f56b176f3dc26e90743": {
          "model_module": "@jupyter-widgets/controls",
          "model_name": "HTMLModel",
          "model_module_version": "1.5.0",
          "state": {
            "_dom_classes": [],
            "_model_module": "@jupyter-widgets/controls",
            "_model_module_version": "1.5.0",
            "_model_name": "HTMLModel",
            "_view_count": null,
            "_view_module": "@jupyter-widgets/controls",
            "_view_module_version": "1.5.0",
            "_view_name": "HTMLView",
            "description": "",
            "description_tooltip": null,
            "layout": "IPY_MODEL_dbba76a5b4714b5c87e1af203e5135ab",
            "placeholder": "​",
            "style": "IPY_MODEL_94a20864b6f14a9a8617eaf8f8dcc0d5",
            "value": "Downloading: 100%"
          }
        },
        "0afd545fccf244c48eb3f6a278868733": {
          "model_module": "@jupyter-widgets/controls",
          "model_name": "FloatProgressModel",
          "model_module_version": "1.5.0",
          "state": {
            "_dom_classes": [],
            "_model_module": "@jupyter-widgets/controls",
            "_model_module_version": "1.5.0",
            "_model_name": "FloatProgressModel",
            "_view_count": null,
            "_view_module": "@jupyter-widgets/controls",
            "_view_module_version": "1.5.0",
            "_view_name": "ProgressView",
            "bar_style": "success",
            "description": "",
            "description_tooltip": null,
            "layout": "IPY_MODEL_29f511341a7e4ac8bf20d8dfc0c151b9",
            "max": 791656,
            "min": 0,
            "orientation": "horizontal",
            "style": "IPY_MODEL_3469e9bb6f3646f7b8fb9443dd557c8a",
            "value": 791656
          }
        },
        "e8045a9e3e014dc0a9834c504f520b7a": {
          "model_module": "@jupyter-widgets/controls",
          "model_name": "HTMLModel",
          "model_module_version": "1.5.0",
          "state": {
            "_dom_classes": [],
            "_model_module": "@jupyter-widgets/controls",
            "_model_module_version": "1.5.0",
            "_model_name": "HTMLModel",
            "_view_count": null,
            "_view_module": "@jupyter-widgets/controls",
            "_view_module_version": "1.5.0",
            "_view_name": "HTMLView",
            "description": "",
            "description_tooltip": null,
            "layout": "IPY_MODEL_927db28d6ef846afb5f077279ccaeda1",
            "placeholder": "​",
            "style": "IPY_MODEL_f56d87e88deb4840879b26c856d06ee0",
            "value": " 773k/773k [00:00&lt;00:00, 8.09MB/s]"
          }
        },
        "34d5515305ba451cbbe1ff8dd1d9daa3": {
          "model_module": "@jupyter-widgets/base",
          "model_name": "LayoutModel",
          "model_module_version": "1.2.0",
          "state": {
            "_model_module": "@jupyter-widgets/base",
            "_model_module_version": "1.2.0",
            "_model_name": "LayoutModel",
            "_view_count": null,
            "_view_module": "@jupyter-widgets/base",
            "_view_module_version": "1.2.0",
            "_view_name": "LayoutView",
            "align_content": null,
            "align_items": null,
            "align_self": null,
            "border": null,
            "bottom": null,
            "display": null,
            "flex": null,
            "flex_flow": null,
            "grid_area": null,
            "grid_auto_columns": null,
            "grid_auto_flow": null,
            "grid_auto_rows": null,
            "grid_column": null,
            "grid_gap": null,
            "grid_row": null,
            "grid_template_areas": null,
            "grid_template_columns": null,
            "grid_template_rows": null,
            "height": null,
            "justify_content": null,
            "justify_items": null,
            "left": null,
            "margin": null,
            "max_height": null,
            "max_width": null,
            "min_height": null,
            "min_width": null,
            "object_fit": null,
            "object_position": null,
            "order": null,
            "overflow": null,
            "overflow_x": null,
            "overflow_y": null,
            "padding": null,
            "right": null,
            "top": null,
            "visibility": null,
            "width": null
          }
        },
        "dbba76a5b4714b5c87e1af203e5135ab": {
          "model_module": "@jupyter-widgets/base",
          "model_name": "LayoutModel",
          "model_module_version": "1.2.0",
          "state": {
            "_model_module": "@jupyter-widgets/base",
            "_model_module_version": "1.2.0",
            "_model_name": "LayoutModel",
            "_view_count": null,
            "_view_module": "@jupyter-widgets/base",
            "_view_module_version": "1.2.0",
            "_view_name": "LayoutView",
            "align_content": null,
            "align_items": null,
            "align_self": null,
            "border": null,
            "bottom": null,
            "display": null,
            "flex": null,
            "flex_flow": null,
            "grid_area": null,
            "grid_auto_columns": null,
            "grid_auto_flow": null,
            "grid_auto_rows": null,
            "grid_column": null,
            "grid_gap": null,
            "grid_row": null,
            "grid_template_areas": null,
            "grid_template_columns": null,
            "grid_template_rows": null,
            "height": null,
            "justify_content": null,
            "justify_items": null,
            "left": null,
            "margin": null,
            "max_height": null,
            "max_width": null,
            "min_height": null,
            "min_width": null,
            "object_fit": null,
            "object_position": null,
            "order": null,
            "overflow": null,
            "overflow_x": null,
            "overflow_y": null,
            "padding": null,
            "right": null,
            "top": null,
            "visibility": null,
            "width": null
          }
        },
        "94a20864b6f14a9a8617eaf8f8dcc0d5": {
          "model_module": "@jupyter-widgets/controls",
          "model_name": "DescriptionStyleModel",
          "model_module_version": "1.5.0",
          "state": {
            "_model_module": "@jupyter-widgets/controls",
            "_model_module_version": "1.5.0",
            "_model_name": "DescriptionStyleModel",
            "_view_count": null,
            "_view_module": "@jupyter-widgets/base",
            "_view_module_version": "1.2.0",
            "_view_name": "StyleView",
            "description_width": ""
          }
        },
        "29f511341a7e4ac8bf20d8dfc0c151b9": {
          "model_module": "@jupyter-widgets/base",
          "model_name": "LayoutModel",
          "model_module_version": "1.2.0",
          "state": {
            "_model_module": "@jupyter-widgets/base",
            "_model_module_version": "1.2.0",
            "_model_name": "LayoutModel",
            "_view_count": null,
            "_view_module": "@jupyter-widgets/base",
            "_view_module_version": "1.2.0",
            "_view_name": "LayoutView",
            "align_content": null,
            "align_items": null,
            "align_self": null,
            "border": null,
            "bottom": null,
            "display": null,
            "flex": null,
            "flex_flow": null,
            "grid_area": null,
            "grid_auto_columns": null,
            "grid_auto_flow": null,
            "grid_auto_rows": null,
            "grid_column": null,
            "grid_gap": null,
            "grid_row": null,
            "grid_template_areas": null,
            "grid_template_columns": null,
            "grid_template_rows": null,
            "height": null,
            "justify_content": null,
            "justify_items": null,
            "left": null,
            "margin": null,
            "max_height": null,
            "max_width": null,
            "min_height": null,
            "min_width": null,
            "object_fit": null,
            "object_position": null,
            "order": null,
            "overflow": null,
            "overflow_x": null,
            "overflow_y": null,
            "padding": null,
            "right": null,
            "top": null,
            "visibility": null,
            "width": null
          }
        },
        "3469e9bb6f3646f7b8fb9443dd557c8a": {
          "model_module": "@jupyter-widgets/controls",
          "model_name": "ProgressStyleModel",
          "model_module_version": "1.5.0",
          "state": {
            "_model_module": "@jupyter-widgets/controls",
            "_model_module_version": "1.5.0",
            "_model_name": "ProgressStyleModel",
            "_view_count": null,
            "_view_module": "@jupyter-widgets/base",
            "_view_module_version": "1.2.0",
            "_view_name": "StyleView",
            "bar_color": null,
            "description_width": ""
          }
        },
        "927db28d6ef846afb5f077279ccaeda1": {
          "model_module": "@jupyter-widgets/base",
          "model_name": "LayoutModel",
          "model_module_version": "1.2.0",
          "state": {
            "_model_module": "@jupyter-widgets/base",
            "_model_module_version": "1.2.0",
            "_model_name": "LayoutModel",
            "_view_count": null,
            "_view_module": "@jupyter-widgets/base",
            "_view_module_version": "1.2.0",
            "_view_name": "LayoutView",
            "align_content": null,
            "align_items": null,
            "align_self": null,
            "border": null,
            "bottom": null,
            "display": null,
            "flex": null,
            "flex_flow": null,
            "grid_area": null,
            "grid_auto_columns": null,
            "grid_auto_flow": null,
            "grid_auto_rows": null,
            "grid_column": null,
            "grid_gap": null,
            "grid_row": null,
            "grid_template_areas": null,
            "grid_template_columns": null,
            "grid_template_rows": null,
            "height": null,
            "justify_content": null,
            "justify_items": null,
            "left": null,
            "margin": null,
            "max_height": null,
            "max_width": null,
            "min_height": null,
            "min_width": null,
            "object_fit": null,
            "object_position": null,
            "order": null,
            "overflow": null,
            "overflow_x": null,
            "overflow_y": null,
            "padding": null,
            "right": null,
            "top": null,
            "visibility": null,
            "width": null
          }
        },
        "f56d87e88deb4840879b26c856d06ee0": {
          "model_module": "@jupyter-widgets/controls",
          "model_name": "DescriptionStyleModel",
          "model_module_version": "1.5.0",
          "state": {
            "_model_module": "@jupyter-widgets/controls",
            "_model_module_version": "1.5.0",
            "_model_name": "DescriptionStyleModel",
            "_view_count": null,
            "_view_module": "@jupyter-widgets/base",
            "_view_module_version": "1.2.0",
            "_view_name": "StyleView",
            "description_width": ""
          }
        },
        "e1bc2e5aa80d49eb864fcc2f80e87493": {
          "model_module": "@jupyter-widgets/controls",
          "model_name": "HBoxModel",
          "model_module_version": "1.5.0",
          "state": {
            "_dom_classes": [],
            "_model_module": "@jupyter-widgets/controls",
            "_model_module_version": "1.5.0",
            "_model_name": "HBoxModel",
            "_view_count": null,
            "_view_module": "@jupyter-widgets/controls",
            "_view_module_version": "1.5.0",
            "_view_name": "HBoxView",
            "box_style": "",
            "children": [
              "IPY_MODEL_2e951ad57e644ad0b6ebe7e123d56ee4",
              "IPY_MODEL_d3a9829028284db690b8ea393f453f7d",
              "IPY_MODEL_7b21af449c32403ca53dce5a7d147414"
            ],
            "layout": "IPY_MODEL_c12393dcdbbd4bb49d4f345b859ef636"
          }
        },
        "2e951ad57e644ad0b6ebe7e123d56ee4": {
          "model_module": "@jupyter-widgets/controls",
          "model_name": "HTMLModel",
          "model_module_version": "1.5.0",
          "state": {
            "_dom_classes": [],
            "_model_module": "@jupyter-widgets/controls",
            "_model_module_version": "1.5.0",
            "_model_name": "HTMLModel",
            "_view_count": null,
            "_view_module": "@jupyter-widgets/controls",
            "_view_module_version": "1.5.0",
            "_view_name": "HTMLView",
            "description": "",
            "description_tooltip": null,
            "layout": "IPY_MODEL_659337c952394592add77ca14d0a0e27",
            "placeholder": "​",
            "style": "IPY_MODEL_8dae49180fbb4102bb0d95e13bd6ceff",
            "value": "Downloading: 100%"
          }
        },
        "d3a9829028284db690b8ea393f453f7d": {
          "model_module": "@jupyter-widgets/controls",
          "model_name": "FloatProgressModel",
          "model_module_version": "1.5.0",
          "state": {
            "_dom_classes": [],
            "_model_module": "@jupyter-widgets/controls",
            "_model_module_version": "1.5.0",
            "_model_name": "FloatProgressModel",
            "_view_count": null,
            "_view_module": "@jupyter-widgets/controls",
            "_view_module_version": "1.5.0",
            "_view_name": "ProgressView",
            "bar_style": "success",
            "description": "",
            "description_tooltip": null,
            "layout": "IPY_MODEL_3886bd06bfd442a4a211bf7be2bedde2",
            "max": 1199,
            "min": 0,
            "orientation": "horizontal",
            "style": "IPY_MODEL_cbd4a8fb1c8444bc9df50e9ea9d34bf8",
            "value": 1199
          }
        },
        "7b21af449c32403ca53dce5a7d147414": {
          "model_module": "@jupyter-widgets/controls",
          "model_name": "HTMLModel",
          "model_module_version": "1.5.0",
          "state": {
            "_dom_classes": [],
            "_model_module": "@jupyter-widgets/controls",
            "_model_module_version": "1.5.0",
            "_model_name": "HTMLModel",
            "_view_count": null,
            "_view_module": "@jupyter-widgets/controls",
            "_view_module_version": "1.5.0",
            "_view_name": "HTMLView",
            "description": "",
            "description_tooltip": null,
            "layout": "IPY_MODEL_aa940166c7884d5b8c7fad87fb428bd7",
            "placeholder": "​",
            "style": "IPY_MODEL_d1490831d7304056b929d365bda107e2",
            "value": " 1.17k/1.17k [00:00&lt;00:00, 21.6kB/s]"
          }
        },
        "c12393dcdbbd4bb49d4f345b859ef636": {
          "model_module": "@jupyter-widgets/base",
          "model_name": "LayoutModel",
          "model_module_version": "1.2.0",
          "state": {
            "_model_module": "@jupyter-widgets/base",
            "_model_module_version": "1.2.0",
            "_model_name": "LayoutModel",
            "_view_count": null,
            "_view_module": "@jupyter-widgets/base",
            "_view_module_version": "1.2.0",
            "_view_name": "LayoutView",
            "align_content": null,
            "align_items": null,
            "align_self": null,
            "border": null,
            "bottom": null,
            "display": null,
            "flex": null,
            "flex_flow": null,
            "grid_area": null,
            "grid_auto_columns": null,
            "grid_auto_flow": null,
            "grid_auto_rows": null,
            "grid_column": null,
            "grid_gap": null,
            "grid_row": null,
            "grid_template_areas": null,
            "grid_template_columns": null,
            "grid_template_rows": null,
            "height": null,
            "justify_content": null,
            "justify_items": null,
            "left": null,
            "margin": null,
            "max_height": null,
            "max_width": null,
            "min_height": null,
            "min_width": null,
            "object_fit": null,
            "object_position": null,
            "order": null,
            "overflow": null,
            "overflow_x": null,
            "overflow_y": null,
            "padding": null,
            "right": null,
            "top": null,
            "visibility": null,
            "width": null
          }
        },
        "659337c952394592add77ca14d0a0e27": {
          "model_module": "@jupyter-widgets/base",
          "model_name": "LayoutModel",
          "model_module_version": "1.2.0",
          "state": {
            "_model_module": "@jupyter-widgets/base",
            "_model_module_version": "1.2.0",
            "_model_name": "LayoutModel",
            "_view_count": null,
            "_view_module": "@jupyter-widgets/base",
            "_view_module_version": "1.2.0",
            "_view_name": "LayoutView",
            "align_content": null,
            "align_items": null,
            "align_self": null,
            "border": null,
            "bottom": null,
            "display": null,
            "flex": null,
            "flex_flow": null,
            "grid_area": null,
            "grid_auto_columns": null,
            "grid_auto_flow": null,
            "grid_auto_rows": null,
            "grid_column": null,
            "grid_gap": null,
            "grid_row": null,
            "grid_template_areas": null,
            "grid_template_columns": null,
            "grid_template_rows": null,
            "height": null,
            "justify_content": null,
            "justify_items": null,
            "left": null,
            "margin": null,
            "max_height": null,
            "max_width": null,
            "min_height": null,
            "min_width": null,
            "object_fit": null,
            "object_position": null,
            "order": null,
            "overflow": null,
            "overflow_x": null,
            "overflow_y": null,
            "padding": null,
            "right": null,
            "top": null,
            "visibility": null,
            "width": null
          }
        },
        "8dae49180fbb4102bb0d95e13bd6ceff": {
          "model_module": "@jupyter-widgets/controls",
          "model_name": "DescriptionStyleModel",
          "model_module_version": "1.5.0",
          "state": {
            "_model_module": "@jupyter-widgets/controls",
            "_model_module_version": "1.5.0",
            "_model_name": "DescriptionStyleModel",
            "_view_count": null,
            "_view_module": "@jupyter-widgets/base",
            "_view_module_version": "1.2.0",
            "_view_name": "StyleView",
            "description_width": ""
          }
        },
        "3886bd06bfd442a4a211bf7be2bedde2": {
          "model_module": "@jupyter-widgets/base",
          "model_name": "LayoutModel",
          "model_module_version": "1.2.0",
          "state": {
            "_model_module": "@jupyter-widgets/base",
            "_model_module_version": "1.2.0",
            "_model_name": "LayoutModel",
            "_view_count": null,
            "_view_module": "@jupyter-widgets/base",
            "_view_module_version": "1.2.0",
            "_view_name": "LayoutView",
            "align_content": null,
            "align_items": null,
            "align_self": null,
            "border": null,
            "bottom": null,
            "display": null,
            "flex": null,
            "flex_flow": null,
            "grid_area": null,
            "grid_auto_columns": null,
            "grid_auto_flow": null,
            "grid_auto_rows": null,
            "grid_column": null,
            "grid_gap": null,
            "grid_row": null,
            "grid_template_areas": null,
            "grid_template_columns": null,
            "grid_template_rows": null,
            "height": null,
            "justify_content": null,
            "justify_items": null,
            "left": null,
            "margin": null,
            "max_height": null,
            "max_width": null,
            "min_height": null,
            "min_width": null,
            "object_fit": null,
            "object_position": null,
            "order": null,
            "overflow": null,
            "overflow_x": null,
            "overflow_y": null,
            "padding": null,
            "right": null,
            "top": null,
            "visibility": null,
            "width": null
          }
        },
        "cbd4a8fb1c8444bc9df50e9ea9d34bf8": {
          "model_module": "@jupyter-widgets/controls",
          "model_name": "ProgressStyleModel",
          "model_module_version": "1.5.0",
          "state": {
            "_model_module": "@jupyter-widgets/controls",
            "_model_module_version": "1.5.0",
            "_model_name": "ProgressStyleModel",
            "_view_count": null,
            "_view_module": "@jupyter-widgets/base",
            "_view_module_version": "1.2.0",
            "_view_name": "StyleView",
            "bar_color": null,
            "description_width": ""
          }
        },
        "aa940166c7884d5b8c7fad87fb428bd7": {
          "model_module": "@jupyter-widgets/base",
          "model_name": "LayoutModel",
          "model_module_version": "1.2.0",
          "state": {
            "_model_module": "@jupyter-widgets/base",
            "_model_module_version": "1.2.0",
            "_model_name": "LayoutModel",
            "_view_count": null,
            "_view_module": "@jupyter-widgets/base",
            "_view_module_version": "1.2.0",
            "_view_name": "LayoutView",
            "align_content": null,
            "align_items": null,
            "align_self": null,
            "border": null,
            "bottom": null,
            "display": null,
            "flex": null,
            "flex_flow": null,
            "grid_area": null,
            "grid_auto_columns": null,
            "grid_auto_flow": null,
            "grid_auto_rows": null,
            "grid_column": null,
            "grid_gap": null,
            "grid_row": null,
            "grid_template_areas": null,
            "grid_template_columns": null,
            "grid_template_rows": null,
            "height": null,
            "justify_content": null,
            "justify_items": null,
            "left": null,
            "margin": null,
            "max_height": null,
            "max_width": null,
            "min_height": null,
            "min_width": null,
            "object_fit": null,
            "object_position": null,
            "order": null,
            "overflow": null,
            "overflow_x": null,
            "overflow_y": null,
            "padding": null,
            "right": null,
            "top": null,
            "visibility": null,
            "width": null
          }
        },
        "d1490831d7304056b929d365bda107e2": {
          "model_module": "@jupyter-widgets/controls",
          "model_name": "DescriptionStyleModel",
          "model_module_version": "1.5.0",
          "state": {
            "_model_module": "@jupyter-widgets/controls",
            "_model_module_version": "1.5.0",
            "_model_name": "DescriptionStyleModel",
            "_view_count": null,
            "_view_module": "@jupyter-widgets/base",
            "_view_module_version": "1.2.0",
            "_view_name": "StyleView",
            "description_width": ""
          }
        }
      }
    },
    "accelerator": "GPU"
  },
  "nbformat": 4,
  "nbformat_minor": 0
}