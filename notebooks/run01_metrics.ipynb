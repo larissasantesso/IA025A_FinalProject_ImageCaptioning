{
  "cells": [
    {
      "cell_type": "markdown",
      "metadata": {
        "id": "view-in-github",
        "colab_type": "text"
      },
      "source": [
        "<a href=\"https://colab.research.google.com/github/larissasantesso/IA025A_FinalProject_ImageCaptioning/blob/main/notebooks/run01_metrics.ipynb\" target=\"_parent\"><img src=\"https://colab.research.google.com/assets/colab-badge.svg\" alt=\"Open In Colab\"/></a>"
      ]
    },
    {
      "cell_type": "code",
      "execution_count": null,
      "metadata": {
        "colab": {
          "base_uri": "https://localhost:8080/"
        },
        "id": "d359Sn2DRQO0",
        "outputId": "34c3aa8a-fc66-46ab-c574-0ae5c0b3bcec"
      },
      "outputs": [
        {
          "output_type": "stream",
          "name": "stdout",
          "text": [
            "Mounted at /content/gdrive\n"
          ]
        }
      ],
      "source": [
        "#from google.colab import drive\n",
        "#drive.mount('/content/gdrive')"
      ]
    },
    {
      "cell_type": "code",
      "source": [
        "#!pip install import-ipynb\n",
        "#import import_ipynb"
      ],
      "metadata": {
        "id": "p0NgVdIJBhqx",
        "colab": {
          "base_uri": "https://localhost:8080/"
        },
        "outputId": "6831182f-d0e6-40e9-d35b-c75d8258c32a"
      },
      "execution_count": null,
      "outputs": [
        {
          "output_type": "stream",
          "name": "stdout",
          "text": [
            "Looking in indexes: https://pypi.org/simple, https://us-python.pkg.dev/colab-wheels/public/simple/\n",
            "Requirement already satisfied: import-ipynb in /usr/local/lib/python3.7/dist-packages (0.1.4)\n",
            "Requirement already satisfied: IPython in /usr/local/lib/python3.7/dist-packages (from import-ipynb) (5.5.0)\n",
            "Requirement already satisfied: nbformat in /usr/local/lib/python3.7/dist-packages (from import-ipynb) (5.4.0)\n",
            "Requirement already satisfied: pickleshare in /usr/local/lib/python3.7/dist-packages (from IPython->import-ipynb) (0.7.5)\n",
            "Requirement already satisfied: prompt-toolkit<2.0.0,>=1.0.4 in /usr/local/lib/python3.7/dist-packages (from IPython->import-ipynb) (1.0.18)\n",
            "Requirement already satisfied: simplegeneric>0.8 in /usr/local/lib/python3.7/dist-packages (from IPython->import-ipynb) (0.8.1)\n",
            "Requirement already satisfied: setuptools>=18.5 in /usr/local/lib/python3.7/dist-packages (from IPython->import-ipynb) (57.4.0)\n",
            "Requirement already satisfied: traitlets>=4.2 in /usr/local/lib/python3.7/dist-packages (from IPython->import-ipynb) (5.1.1)\n",
            "Requirement already satisfied: pexpect in /usr/local/lib/python3.7/dist-packages (from IPython->import-ipynb) (4.8.0)\n",
            "Requirement already satisfied: pygments in /usr/local/lib/python3.7/dist-packages (from IPython->import-ipynb) (2.6.1)\n",
            "Requirement already satisfied: decorator in /usr/local/lib/python3.7/dist-packages (from IPython->import-ipynb) (4.4.2)\n",
            "Requirement already satisfied: six>=1.9.0 in /usr/local/lib/python3.7/dist-packages (from prompt-toolkit<2.0.0,>=1.0.4->IPython->import-ipynb) (1.15.0)\n",
            "Requirement already satisfied: wcwidth in /usr/local/lib/python3.7/dist-packages (from prompt-toolkit<2.0.0,>=1.0.4->IPython->import-ipynb) (0.2.5)\n",
            "Requirement already satisfied: jsonschema>=2.6 in /usr/local/lib/python3.7/dist-packages (from nbformat->import-ipynb) (4.3.3)\n",
            "Requirement already satisfied: jupyter-core in /usr/local/lib/python3.7/dist-packages (from nbformat->import-ipynb) (4.10.0)\n",
            "Requirement already satisfied: fastjsonschema in /usr/local/lib/python3.7/dist-packages (from nbformat->import-ipynb) (2.15.3)\n",
            "Requirement already satisfied: attrs>=17.4.0 in /usr/local/lib/python3.7/dist-packages (from jsonschema>=2.6->nbformat->import-ipynb) (21.4.0)\n",
            "Requirement already satisfied: importlib-metadata in /usr/local/lib/python3.7/dist-packages (from jsonschema>=2.6->nbformat->import-ipynb) (4.11.4)\n",
            "Requirement already satisfied: typing-extensions in /usr/local/lib/python3.7/dist-packages (from jsonschema>=2.6->nbformat->import-ipynb) (4.1.1)\n",
            "Requirement already satisfied: pyrsistent!=0.17.0,!=0.17.1,!=0.17.2,>=0.14.0 in /usr/local/lib/python3.7/dist-packages (from jsonschema>=2.6->nbformat->import-ipynb) (0.18.1)\n",
            "Requirement already satisfied: importlib-resources>=1.4.0 in /usr/local/lib/python3.7/dist-packages (from jsonschema>=2.6->nbformat->import-ipynb) (5.7.1)\n",
            "Requirement already satisfied: zipp>=3.1.0 in /usr/local/lib/python3.7/dist-packages (from importlib-resources>=1.4.0->jsonschema>=2.6->nbformat->import-ipynb) (3.8.0)\n",
            "Requirement already satisfied: ptyprocess>=0.5 in /usr/local/lib/python3.7/dist-packages (from pexpect->IPython->import-ipynb) (0.7.0)\n"
          ]
        }
      ]
    },
    {
      "cell_type": "code",
      "source": [
        "from run00_dataset import *"
      ],
      "metadata": {
        "id": "F1xDRVUoBjXw"
      },
      "execution_count": null,
      "outputs": []
    },
    {
      "cell_type": "markdown",
      "metadata": {
        "id": "cWveCIR2hPnD"
      },
      "source": [
        "# Metrics\n"
      ]
    },
    {
      "cell_type": "code",
      "execution_count": null,
      "metadata": {
        "id": "AnIdzeLalRmm"
      },
      "outputs": [],
      "source": [
        "bleu = datasets.load_metric('sacrebleu')\n",
        "\n",
        "def calculate_metrics(preds, refs):\n",
        "\n",
        "    bleu_score = bleu.compute(predictions=preds, references=refs)\n",
        "    bleu1 = bleu_score['bp']*math.exp(math.log(bleu_score['precisions'][0]))\n",
        "    bleu2 = bleu_score['bp']*math.exp(0.5*math.log(bleu_score['precisions'][0])+0.5*math.log(bleu_score['precisions'][1]))\n",
        "    bleu3 = bleu_score['bp']*math.exp((1/3)*math.log(bleu_score['precisions'][0])+(1/3)*math.log(bleu_score['precisions'][1])+ (1/3)*math.log(bleu_score['precisions'][2]))\n",
        "    bleu4 = bleu_score[\"score\"]\n",
        "\n",
        "    return bleu1, bleu2, bleu3, bleu4"
      ]
    },
    {
      "cell_type": "markdown",
      "metadata": {
        "id": "Y93QadhXlQaC"
      },
      "source": [
        "## Examples"
      ]
    },
    {
      "cell_type": "code",
      "execution_count": null,
      "metadata": {
        "id": "iAS4bEXNlY-j"
      },
      "outputs": [],
      "source": [
        "#train_loader_test = DataLoader(train_dataset, batch_size=3, shuffle=False, collate_fn = collate_custom, drop_last=True)\n",
        "\n",
        "#x, y, z, w  = next(iter(train_loader_test))"
      ]
    },
    {
      "cell_type": "code",
      "execution_count": null,
      "metadata": {
        "colab": {
          "base_uri": "https://localhost:8080/"
        },
        "id": "3FzO4m48ZNrH",
        "outputId": "bc5f1349-9cd3-4d73-dd39-29fc5099bf7e"
      },
      "outputs": [
        {
          "output_type": "execute_result",
          "data": {
            "text/plain": [
              "[['A bunch of trays that have different food.',\n",
              "  'A meal is presented in brightly colored plastic trays.',\n",
              "  'there are containers filled with different kinds of foods',\n",
              "  'Closeup of bins of food that include broccoli and bread.',\n",
              "  'Colorful dishes holding meat, vegetables, fruit, and bread.'],\n",
              " ['A giraffe mother with its baby in the forest.',\n",
              "  'A giraffe eating food from the top of the tree.',\n",
              "  'A giraffe standing next to a forest filled with trees.',\n",
              "  'Two giraffes standing in a tree filled area.',\n",
              "  'A giraffe standing up nearby a tree '],\n",
              " ['A white vase filled with different colored flowers.',\n",
              "  'a white vase with many flowers on a stage',\n",
              "  'A vase with red and white flowers outside on a sunny day.',\n",
              "  'White vase with different colored flowers sitting inside of it. ',\n",
              "  'A flower vase is sitting on a porch stand.']]"
            ]
          },
          "metadata": {},
          "execution_count": 16
        }
      ],
      "source": [
        "#z"
      ]
    },
    {
      "cell_type": "code",
      "execution_count": null,
      "metadata": {
        "colab": {
          "base_uri": "https://localhost:8080/"
        },
        "id": "Uc65k8zANoWn",
        "outputId": "8b700962-033f-478f-bf18-6878f4fc0cd7"
      },
      "outputs": [
        {
          "output_type": "execute_result",
          "data": {
            "text/plain": [
              "['Closeup of bins of food that include broccoli and bread.',\n",
              " 'A giraffe eating food from the top of the tree.',\n",
              " 'A cat']"
            ]
          },
          "metadata": {},
          "execution_count": 17
        }
      ],
      "source": [
        "#predictions = ['Closeup of bins of food that include broccoli and bread.',\n",
        "#                'A giraffe eating food from the top of the tree.',\n",
        "#                'A cat']\n",
        "\n",
        "#predictions"
      ]
    },
    {
      "cell_type": "code",
      "execution_count": null,
      "metadata": {
        "id": "TBHmwpJ5lh47"
      },
      "outputs": [],
      "source": [
        "#predictions2 = ['A woman riding a pink bike.',\n",
        "#                'A group of people around a tree.',\n",
        "#                'A large boat filled with water.']"
      ]
    },
    {
      "cell_type": "code",
      "execution_count": null,
      "metadata": {
        "colab": {
          "base_uri": "https://localhost:8080/"
        },
        "id": "B60-in8kl2IT",
        "outputId": "f3b91fe4-4f46-4adf-cfe8-00bbedf5ffc2"
      },
      "outputs": [
        {
          "output_type": "execute_result",
          "data": {
            "text/plain": [
              "(71.5891771130831, 71.3665041720729, 72.46137006188123, 73.01508580595927)"
            ]
          },
          "metadata": {},
          "execution_count": 22
        }
      ],
      "source": [
        "#calculate_metrics(predictions, z)"
      ]
    },
    {
      "cell_type": "code",
      "execution_count": null,
      "metadata": {
        "colab": {
          "base_uri": "https://localhost:8080/"
        },
        "outputId": "af4bbb08-190f-4acf-bde5-d60241265ac8",
        "id": "gy2IJIjVBXfp"
      },
      "outputs": [
        {
          "output_type": "execute_result",
          "data": {
            "text/plain": [
              "(43.62626464347118, 24.515844286429935, 11.789822095616621, 7.241426204102065)"
            ]
          },
          "metadata": {},
          "execution_count": 23
        }
      ],
      "source": [
        "#calculate_metrics(predictions2, z)"
      ]
    }
  ],
  "metadata": {
    "colab": {
      "collapsed_sections": [
        "Y93QadhXlQaC"
      ],
      "machine_shape": "hm",
      "provenance": [],
      "include_colab_link": true
    },
    "gpuClass": "standard",
    "kernelspec": {
      "display_name": "Python 3",
      "name": "python3"
    },
    "language_info": {
      "name": "python"
    },
    "accelerator": "GPU"
  },
  "nbformat": 4,
  "nbformat_minor": 0
}